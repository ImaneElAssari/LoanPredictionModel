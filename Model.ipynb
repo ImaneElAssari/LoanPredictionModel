{
  "nbformat": 4,
  "nbformat_minor": 0,
  "metadata": {
    "colab": {
      "name": "Model.ipynb",
      "provenance": [],
      "authorship_tag": "ABX9TyOuDKVwrfpk4hux+RDpf/12",
      "include_colab_link": true
    },
    "kernelspec": {
      "name": "python3",
      "display_name": "Python 3"
    }
  },
  "cells": [
    {
      "cell_type": "markdown",
      "metadata": {
        "id": "view-in-github",
        "colab_type": "text"
      },
      "source": [
        "<a href=\"https://colab.research.google.com/github/ImaneElAssari/LoanPredictionModel/blob/main/Model.ipynb\" target=\"_parent\"><img src=\"https://colab.research.google.com/assets/colab-badge.svg\" alt=\"Open In Colab\"/></a>"
      ]
    },
    {
      "cell_type": "markdown",
      "metadata": {
        "id": "dDH1AXTv-a5o"
      },
      "source": [
        "`Etape 1` : **Data Cleaning**\r\n",
        "\r\n",
        "\r\n"
      ]
    },
    {
      "cell_type": "code",
      "metadata": {
        "id": "hS4DrN3w3CRd"
      },
      "source": [
        "#importer les packages\r\n",
        "import pandas as pd\r\n",
        "import numpy as np\r\n",
        "from sklearn.preprocessing import LabelEncoder \r\n",
        "from sklearn.model_selection import StratifiedShuffleSplit\r\n",
        "from sklearn.linear_model import LogisticRegression\r\n",
        "from sklearn.neighbors import  KNeighborsClassifier\r\n",
        "from sklearn.tree import DecisionTreeClassifier\r\n",
        "#pour la fonction de precision=permet d'valuer le modele\r\n",
        "from sklearn.metrics import accuracy_score\r\n",
        "#pour la visualisation\r\n",
        "import matplotlib.pyplot as pl \r\n",
        "import seaborn as sns\r\n",
        "import pickle  #permet  de generer le modele a deployer"
      ],
      "execution_count": 45,
      "outputs": []
    },
    {
      "cell_type": "code",
      "metadata": {
        "colab": {
          "base_uri": "https://localhost:8080/",
          "height": 448
        },
        "id": "z2rq38yc76sj",
        "outputId": "61bf0763-b694-41c9-bed1-ddadf574158d"
      },
      "source": [
        "#Lire la base de donnes \r\n",
        "df=pd.read_csv('/content/train_u6lujuX_CVtuZ9i.csv')\r\n",
        "df"
      ],
      "execution_count": 3,
      "outputs": [
        {
          "output_type": "execute_result",
          "data": {
            "text/html": [
              "<div>\n",
              "<style scoped>\n",
              "    .dataframe tbody tr th:only-of-type {\n",
              "        vertical-align: middle;\n",
              "    }\n",
              "\n",
              "    .dataframe tbody tr th {\n",
              "        vertical-align: top;\n",
              "    }\n",
              "\n",
              "    .dataframe thead th {\n",
              "        text-align: right;\n",
              "    }\n",
              "</style>\n",
              "<table border=\"1\" class=\"dataframe\">\n",
              "  <thead>\n",
              "    <tr style=\"text-align: right;\">\n",
              "      <th></th>\n",
              "      <th>Loan_ID</th>\n",
              "      <th>Gender</th>\n",
              "      <th>Married</th>\n",
              "      <th>Dependents</th>\n",
              "      <th>Education</th>\n",
              "      <th>Self_Employed</th>\n",
              "      <th>ApplicantIncome</th>\n",
              "      <th>CoapplicantIncome</th>\n",
              "      <th>LoanAmount</th>\n",
              "      <th>Loan_Amount_Term</th>\n",
              "      <th>Credit_History</th>\n",
              "      <th>Property_Area</th>\n",
              "      <th>Loan_Status</th>\n",
              "    </tr>\n",
              "  </thead>\n",
              "  <tbody>\n",
              "    <tr>\n",
              "      <th>0</th>\n",
              "      <td>LP001002</td>\n",
              "      <td>Male</td>\n",
              "      <td>No</td>\n",
              "      <td>0</td>\n",
              "      <td>Graduate</td>\n",
              "      <td>No</td>\n",
              "      <td>5849</td>\n",
              "      <td>0.0</td>\n",
              "      <td>NaN</td>\n",
              "      <td>360.0</td>\n",
              "      <td>1.0</td>\n",
              "      <td>Urban</td>\n",
              "      <td>Y</td>\n",
              "    </tr>\n",
              "    <tr>\n",
              "      <th>1</th>\n",
              "      <td>LP001003</td>\n",
              "      <td>Male</td>\n",
              "      <td>Yes</td>\n",
              "      <td>1</td>\n",
              "      <td>Graduate</td>\n",
              "      <td>No</td>\n",
              "      <td>4583</td>\n",
              "      <td>1508.0</td>\n",
              "      <td>128.0</td>\n",
              "      <td>360.0</td>\n",
              "      <td>1.0</td>\n",
              "      <td>Rural</td>\n",
              "      <td>N</td>\n",
              "    </tr>\n",
              "    <tr>\n",
              "      <th>2</th>\n",
              "      <td>LP001005</td>\n",
              "      <td>Male</td>\n",
              "      <td>Yes</td>\n",
              "      <td>0</td>\n",
              "      <td>Graduate</td>\n",
              "      <td>Yes</td>\n",
              "      <td>3000</td>\n",
              "      <td>0.0</td>\n",
              "      <td>66.0</td>\n",
              "      <td>360.0</td>\n",
              "      <td>1.0</td>\n",
              "      <td>Urban</td>\n",
              "      <td>Y</td>\n",
              "    </tr>\n",
              "    <tr>\n",
              "      <th>3</th>\n",
              "      <td>LP001006</td>\n",
              "      <td>Male</td>\n",
              "      <td>Yes</td>\n",
              "      <td>0</td>\n",
              "      <td>Not Graduate</td>\n",
              "      <td>No</td>\n",
              "      <td>2583</td>\n",
              "      <td>2358.0</td>\n",
              "      <td>120.0</td>\n",
              "      <td>360.0</td>\n",
              "      <td>1.0</td>\n",
              "      <td>Urban</td>\n",
              "      <td>Y</td>\n",
              "    </tr>\n",
              "    <tr>\n",
              "      <th>4</th>\n",
              "      <td>LP001008</td>\n",
              "      <td>Male</td>\n",
              "      <td>No</td>\n",
              "      <td>0</td>\n",
              "      <td>Graduate</td>\n",
              "      <td>No</td>\n",
              "      <td>6000</td>\n",
              "      <td>0.0</td>\n",
              "      <td>141.0</td>\n",
              "      <td>360.0</td>\n",
              "      <td>1.0</td>\n",
              "      <td>Urban</td>\n",
              "      <td>Y</td>\n",
              "    </tr>\n",
              "    <tr>\n",
              "      <th>...</th>\n",
              "      <td>...</td>\n",
              "      <td>...</td>\n",
              "      <td>...</td>\n",
              "      <td>...</td>\n",
              "      <td>...</td>\n",
              "      <td>...</td>\n",
              "      <td>...</td>\n",
              "      <td>...</td>\n",
              "      <td>...</td>\n",
              "      <td>...</td>\n",
              "      <td>...</td>\n",
              "      <td>...</td>\n",
              "      <td>...</td>\n",
              "    </tr>\n",
              "    <tr>\n",
              "      <th>609</th>\n",
              "      <td>LP002978</td>\n",
              "      <td>Female</td>\n",
              "      <td>No</td>\n",
              "      <td>0</td>\n",
              "      <td>Graduate</td>\n",
              "      <td>No</td>\n",
              "      <td>2900</td>\n",
              "      <td>0.0</td>\n",
              "      <td>71.0</td>\n",
              "      <td>360.0</td>\n",
              "      <td>1.0</td>\n",
              "      <td>Rural</td>\n",
              "      <td>Y</td>\n",
              "    </tr>\n",
              "    <tr>\n",
              "      <th>610</th>\n",
              "      <td>LP002979</td>\n",
              "      <td>Male</td>\n",
              "      <td>Yes</td>\n",
              "      <td>3+</td>\n",
              "      <td>Graduate</td>\n",
              "      <td>No</td>\n",
              "      <td>4106</td>\n",
              "      <td>0.0</td>\n",
              "      <td>40.0</td>\n",
              "      <td>180.0</td>\n",
              "      <td>1.0</td>\n",
              "      <td>Rural</td>\n",
              "      <td>Y</td>\n",
              "    </tr>\n",
              "    <tr>\n",
              "      <th>611</th>\n",
              "      <td>LP002983</td>\n",
              "      <td>Male</td>\n",
              "      <td>Yes</td>\n",
              "      <td>1</td>\n",
              "      <td>Graduate</td>\n",
              "      <td>No</td>\n",
              "      <td>8072</td>\n",
              "      <td>240.0</td>\n",
              "      <td>253.0</td>\n",
              "      <td>360.0</td>\n",
              "      <td>1.0</td>\n",
              "      <td>Urban</td>\n",
              "      <td>Y</td>\n",
              "    </tr>\n",
              "    <tr>\n",
              "      <th>612</th>\n",
              "      <td>LP002984</td>\n",
              "      <td>Male</td>\n",
              "      <td>Yes</td>\n",
              "      <td>2</td>\n",
              "      <td>Graduate</td>\n",
              "      <td>No</td>\n",
              "      <td>7583</td>\n",
              "      <td>0.0</td>\n",
              "      <td>187.0</td>\n",
              "      <td>360.0</td>\n",
              "      <td>1.0</td>\n",
              "      <td>Urban</td>\n",
              "      <td>Y</td>\n",
              "    </tr>\n",
              "    <tr>\n",
              "      <th>613</th>\n",
              "      <td>LP002990</td>\n",
              "      <td>Female</td>\n",
              "      <td>No</td>\n",
              "      <td>0</td>\n",
              "      <td>Graduate</td>\n",
              "      <td>Yes</td>\n",
              "      <td>4583</td>\n",
              "      <td>0.0</td>\n",
              "      <td>133.0</td>\n",
              "      <td>360.0</td>\n",
              "      <td>0.0</td>\n",
              "      <td>Semiurban</td>\n",
              "      <td>N</td>\n",
              "    </tr>\n",
              "  </tbody>\n",
              "</table>\n",
              "<p>614 rows × 13 columns</p>\n",
              "</div>"
            ],
            "text/plain": [
              "      Loan_ID  Gender Married  ... Credit_History Property_Area Loan_Status\n",
              "0    LP001002    Male      No  ...            1.0         Urban           Y\n",
              "1    LP001003    Male     Yes  ...            1.0         Rural           N\n",
              "2    LP001005    Male     Yes  ...            1.0         Urban           Y\n",
              "3    LP001006    Male     Yes  ...            1.0         Urban           Y\n",
              "4    LP001008    Male      No  ...            1.0         Urban           Y\n",
              "..        ...     ...     ...  ...            ...           ...         ...\n",
              "609  LP002978  Female      No  ...            1.0         Rural           Y\n",
              "610  LP002979    Male     Yes  ...            1.0         Rural           Y\n",
              "611  LP002983    Male     Yes  ...            1.0         Urban           Y\n",
              "612  LP002984    Male     Yes  ...            1.0         Urban           Y\n",
              "613  LP002990  Female      No  ...            0.0     Semiurban           N\n",
              "\n",
              "[614 rows x 13 columns]"
            ]
          },
          "metadata": {
            "tags": []
          },
          "execution_count": 3
        }
      ]
    },
    {
      "cell_type": "code",
      "metadata": {
        "id": "nVVixMod9VG9"
      },
      "source": [
        "#Pour afficher toute la base de donnes si on execute df\r\n",
        "pd.set_option('display.max_rows',df.shape[0]+1)"
      ],
      "execution_count": 4,
      "outputs": []
    },
    {
      "cell_type": "markdown",
      "metadata": {
        "id": "ypW7IvIm9vjQ"
      },
      "source": [
        "**Remarque** :  le **Nna** indique l'existence des données manquantes\r\n",
        "\r\n",
        "\r\n",
        "\r\n"
      ]
    },
    {
      "cell_type": "code",
      "metadata": {
        "colab": {
          "base_uri": "https://localhost:8080/",
          "height": 448
        },
        "id": "dT61XrQj-CCZ",
        "outputId": "633ead63-af16-443d-9b1f-30aee015f552"
      },
      "source": [
        "#On veut afficher juste les 10  lignes \r\n",
        "pd.set_option('display.max_rows',10)\r\n",
        "df"
      ],
      "execution_count": 4,
      "outputs": [
        {
          "output_type": "execute_result",
          "data": {
            "text/html": [
              "<div>\n",
              "<style scoped>\n",
              "    .dataframe tbody tr th:only-of-type {\n",
              "        vertical-align: middle;\n",
              "    }\n",
              "\n",
              "    .dataframe tbody tr th {\n",
              "        vertical-align: top;\n",
              "    }\n",
              "\n",
              "    .dataframe thead th {\n",
              "        text-align: right;\n",
              "    }\n",
              "</style>\n",
              "<table border=\"1\" class=\"dataframe\">\n",
              "  <thead>\n",
              "    <tr style=\"text-align: right;\">\n",
              "      <th></th>\n",
              "      <th>Loan_ID</th>\n",
              "      <th>Gender</th>\n",
              "      <th>Married</th>\n",
              "      <th>Dependents</th>\n",
              "      <th>Education</th>\n",
              "      <th>Self_Employed</th>\n",
              "      <th>ApplicantIncome</th>\n",
              "      <th>CoapplicantIncome</th>\n",
              "      <th>LoanAmount</th>\n",
              "      <th>Loan_Amount_Term</th>\n",
              "      <th>Credit_History</th>\n",
              "      <th>Property_Area</th>\n",
              "      <th>Loan_Status</th>\n",
              "    </tr>\n",
              "  </thead>\n",
              "  <tbody>\n",
              "    <tr>\n",
              "      <th>0</th>\n",
              "      <td>LP001002</td>\n",
              "      <td>Male</td>\n",
              "      <td>No</td>\n",
              "      <td>0</td>\n",
              "      <td>Graduate</td>\n",
              "      <td>No</td>\n",
              "      <td>5849</td>\n",
              "      <td>0.0</td>\n",
              "      <td>NaN</td>\n",
              "      <td>360.0</td>\n",
              "      <td>1.0</td>\n",
              "      <td>Urban</td>\n",
              "      <td>Y</td>\n",
              "    </tr>\n",
              "    <tr>\n",
              "      <th>1</th>\n",
              "      <td>LP001003</td>\n",
              "      <td>Male</td>\n",
              "      <td>Yes</td>\n",
              "      <td>1</td>\n",
              "      <td>Graduate</td>\n",
              "      <td>No</td>\n",
              "      <td>4583</td>\n",
              "      <td>1508.0</td>\n",
              "      <td>128.0</td>\n",
              "      <td>360.0</td>\n",
              "      <td>1.0</td>\n",
              "      <td>Rural</td>\n",
              "      <td>N</td>\n",
              "    </tr>\n",
              "    <tr>\n",
              "      <th>2</th>\n",
              "      <td>LP001005</td>\n",
              "      <td>Male</td>\n",
              "      <td>Yes</td>\n",
              "      <td>0</td>\n",
              "      <td>Graduate</td>\n",
              "      <td>Yes</td>\n",
              "      <td>3000</td>\n",
              "      <td>0.0</td>\n",
              "      <td>66.0</td>\n",
              "      <td>360.0</td>\n",
              "      <td>1.0</td>\n",
              "      <td>Urban</td>\n",
              "      <td>Y</td>\n",
              "    </tr>\n",
              "    <tr>\n",
              "      <th>3</th>\n",
              "      <td>LP001006</td>\n",
              "      <td>Male</td>\n",
              "      <td>Yes</td>\n",
              "      <td>0</td>\n",
              "      <td>Not Graduate</td>\n",
              "      <td>No</td>\n",
              "      <td>2583</td>\n",
              "      <td>2358.0</td>\n",
              "      <td>120.0</td>\n",
              "      <td>360.0</td>\n",
              "      <td>1.0</td>\n",
              "      <td>Urban</td>\n",
              "      <td>Y</td>\n",
              "    </tr>\n",
              "    <tr>\n",
              "      <th>4</th>\n",
              "      <td>LP001008</td>\n",
              "      <td>Male</td>\n",
              "      <td>No</td>\n",
              "      <td>0</td>\n",
              "      <td>Graduate</td>\n",
              "      <td>No</td>\n",
              "      <td>6000</td>\n",
              "      <td>0.0</td>\n",
              "      <td>141.0</td>\n",
              "      <td>360.0</td>\n",
              "      <td>1.0</td>\n",
              "      <td>Urban</td>\n",
              "      <td>Y</td>\n",
              "    </tr>\n",
              "    <tr>\n",
              "      <th>...</th>\n",
              "      <td>...</td>\n",
              "      <td>...</td>\n",
              "      <td>...</td>\n",
              "      <td>...</td>\n",
              "      <td>...</td>\n",
              "      <td>...</td>\n",
              "      <td>...</td>\n",
              "      <td>...</td>\n",
              "      <td>...</td>\n",
              "      <td>...</td>\n",
              "      <td>...</td>\n",
              "      <td>...</td>\n",
              "      <td>...</td>\n",
              "    </tr>\n",
              "    <tr>\n",
              "      <th>609</th>\n",
              "      <td>LP002978</td>\n",
              "      <td>Female</td>\n",
              "      <td>No</td>\n",
              "      <td>0</td>\n",
              "      <td>Graduate</td>\n",
              "      <td>No</td>\n",
              "      <td>2900</td>\n",
              "      <td>0.0</td>\n",
              "      <td>71.0</td>\n",
              "      <td>360.0</td>\n",
              "      <td>1.0</td>\n",
              "      <td>Rural</td>\n",
              "      <td>Y</td>\n",
              "    </tr>\n",
              "    <tr>\n",
              "      <th>610</th>\n",
              "      <td>LP002979</td>\n",
              "      <td>Male</td>\n",
              "      <td>Yes</td>\n",
              "      <td>3+</td>\n",
              "      <td>Graduate</td>\n",
              "      <td>No</td>\n",
              "      <td>4106</td>\n",
              "      <td>0.0</td>\n",
              "      <td>40.0</td>\n",
              "      <td>180.0</td>\n",
              "      <td>1.0</td>\n",
              "      <td>Rural</td>\n",
              "      <td>Y</td>\n",
              "    </tr>\n",
              "    <tr>\n",
              "      <th>611</th>\n",
              "      <td>LP002983</td>\n",
              "      <td>Male</td>\n",
              "      <td>Yes</td>\n",
              "      <td>1</td>\n",
              "      <td>Graduate</td>\n",
              "      <td>No</td>\n",
              "      <td>8072</td>\n",
              "      <td>240.0</td>\n",
              "      <td>253.0</td>\n",
              "      <td>360.0</td>\n",
              "      <td>1.0</td>\n",
              "      <td>Urban</td>\n",
              "      <td>Y</td>\n",
              "    </tr>\n",
              "    <tr>\n",
              "      <th>612</th>\n",
              "      <td>LP002984</td>\n",
              "      <td>Male</td>\n",
              "      <td>Yes</td>\n",
              "      <td>2</td>\n",
              "      <td>Graduate</td>\n",
              "      <td>No</td>\n",
              "      <td>7583</td>\n",
              "      <td>0.0</td>\n",
              "      <td>187.0</td>\n",
              "      <td>360.0</td>\n",
              "      <td>1.0</td>\n",
              "      <td>Urban</td>\n",
              "      <td>Y</td>\n",
              "    </tr>\n",
              "    <tr>\n",
              "      <th>613</th>\n",
              "      <td>LP002990</td>\n",
              "      <td>Female</td>\n",
              "      <td>No</td>\n",
              "      <td>0</td>\n",
              "      <td>Graduate</td>\n",
              "      <td>Yes</td>\n",
              "      <td>4583</td>\n",
              "      <td>0.0</td>\n",
              "      <td>133.0</td>\n",
              "      <td>360.0</td>\n",
              "      <td>0.0</td>\n",
              "      <td>Semiurban</td>\n",
              "      <td>N</td>\n",
              "    </tr>\n",
              "  </tbody>\n",
              "</table>\n",
              "<p>614 rows × 13 columns</p>\n",
              "</div>"
            ],
            "text/plain": [
              "      Loan_ID  Gender Married  ... Credit_History Property_Area Loan_Status\n",
              "0    LP001002    Male      No  ...            1.0         Urban           Y\n",
              "1    LP001003    Male     Yes  ...            1.0         Rural           N\n",
              "2    LP001005    Male     Yes  ...            1.0         Urban           Y\n",
              "3    LP001006    Male     Yes  ...            1.0         Urban           Y\n",
              "4    LP001008    Male      No  ...            1.0         Urban           Y\n",
              "..        ...     ...     ...  ...            ...           ...         ...\n",
              "609  LP002978  Female      No  ...            1.0         Rural           Y\n",
              "610  LP002979    Male     Yes  ...            1.0         Rural           Y\n",
              "611  LP002983    Male     Yes  ...            1.0         Urban           Y\n",
              "612  LP002984    Male     Yes  ...            1.0         Urban           Y\n",
              "613  LP002990  Female      No  ...            0.0     Semiurban           N\n",
              "\n",
              "[614 rows x 13 columns]"
            ]
          },
          "metadata": {
            "tags": []
          },
          "execution_count": 4
        }
      ]
    },
    {
      "cell_type": "markdown",
      "metadata": {
        "id": "IHVxu-Pl_tYv"
      },
      "source": [
        "Maintenant l'execution de 'df' nous a affiché seulement 10 lignes : les 5 premiers, et les 5 derniers"
      ]
    },
    {
      "cell_type": "code",
      "metadata": {
        "colab": {
          "base_uri": "https://localhost:8080/"
        },
        "id": "KOL3SuYb_PHh",
        "outputId": "5e1811b9-e1d3-4956-e0f7-1007a87a488e"
      },
      "source": [
        "# afficher les valeurs manquantes\r\n",
        "df.info()"
      ],
      "execution_count": 5,
      "outputs": [
        {
          "output_type": "stream",
          "text": [
            "<class 'pandas.core.frame.DataFrame'>\n",
            "RangeIndex: 614 entries, 0 to 613\n",
            "Data columns (total 13 columns):\n",
            " #   Column             Non-Null Count  Dtype  \n",
            "---  ------             --------------  -----  \n",
            " 0   Loan_ID            614 non-null    object \n",
            " 1   Gender             601 non-null    object \n",
            " 2   Married            611 non-null    object \n",
            " 3   Dependents         599 non-null    object \n",
            " 4   Education          614 non-null    object \n",
            " 5   Self_Employed      582 non-null    object \n",
            " 6   ApplicantIncome    614 non-null    int64  \n",
            " 7   CoapplicantIncome  614 non-null    float64\n",
            " 8   LoanAmount         592 non-null    float64\n",
            " 9   Loan_Amount_Term   600 non-null    float64\n",
            " 10  Credit_History     564 non-null    float64\n",
            " 11  Property_Area      614 non-null    object \n",
            " 12  Loan_Status        614 non-null    object \n",
            "dtypes: float64(4), int64(1), object(8)\n",
            "memory usage: 62.5+ KB\n"
          ],
          "name": "stdout"
        }
      ]
    },
    {
      "cell_type": "markdown",
      "metadata": {
        "id": "J_FQugS3yVTu"
      },
      "source": [
        "Cette dataset contient 614 enregistrements\r\n",
        "\r\n"
      ]
    },
    {
      "cell_type": "code",
      "metadata": {
        "colab": {
          "base_uri": "https://localhost:8080/"
        },
        "id": "jk9HS-ANys2G",
        "outputId": "29047f17-246d-431f-857e-039f85730b48"
      },
      "source": [
        "df.isnull().sum().sort_values(ascending=False)"
      ],
      "execution_count": 6,
      "outputs": [
        {
          "output_type": "execute_result",
          "data": {
            "text/plain": [
              "Credit_History       50\n",
              "Self_Employed        32\n",
              "LoanAmount           22\n",
              "Dependents           15\n",
              "Loan_Amount_Term     14\n",
              "                     ..\n",
              "Property_Area         0\n",
              "CoapplicantIncome     0\n",
              "ApplicantIncome       0\n",
              "Education             0\n",
              "Loan_ID               0\n",
              "Length: 13, dtype: int64"
            ]
          },
          "metadata": {
            "tags": []
          },
          "execution_count": 6
        }
      ]
    },
    {
      "cell_type": "markdown",
      "metadata": {
        "id": "SU6e-GPEzppt"
      },
      "source": [
        "On veut savoir le nombre de valeurs manquantes pour chaque attribut.\r\n",
        "On cherche dans la base de données les cases ou il y a une valeur      manqante, on somme toutes ces valeur et puis on applique la méthode sort\r\n",
        "\r\n",
        "\r\n"
      ]
    },
    {
      "cell_type": "code",
      "metadata": {
        "colab": {
          "base_uri": "https://localhost:8080/",
          "height": 291
        },
        "id": "U7-kGCN80OnE",
        "outputId": "7270b5c8-3b1c-4c82-f01c-89af425e56d8"
      },
      "source": [
        "df.describe()"
      ],
      "execution_count": 7,
      "outputs": [
        {
          "output_type": "execute_result",
          "data": {
            "text/html": [
              "<div>\n",
              "<style scoped>\n",
              "    .dataframe tbody tr th:only-of-type {\n",
              "        vertical-align: middle;\n",
              "    }\n",
              "\n",
              "    .dataframe tbody tr th {\n",
              "        vertical-align: top;\n",
              "    }\n",
              "\n",
              "    .dataframe thead th {\n",
              "        text-align: right;\n",
              "    }\n",
              "</style>\n",
              "<table border=\"1\" class=\"dataframe\">\n",
              "  <thead>\n",
              "    <tr style=\"text-align: right;\">\n",
              "      <th></th>\n",
              "      <th>ApplicantIncome</th>\n",
              "      <th>CoapplicantIncome</th>\n",
              "      <th>LoanAmount</th>\n",
              "      <th>Loan_Amount_Term</th>\n",
              "      <th>Credit_History</th>\n",
              "    </tr>\n",
              "  </thead>\n",
              "  <tbody>\n",
              "    <tr>\n",
              "      <th>count</th>\n",
              "      <td>614.000000</td>\n",
              "      <td>614.000000</td>\n",
              "      <td>592.000000</td>\n",
              "      <td>600.00000</td>\n",
              "      <td>564.000000</td>\n",
              "    </tr>\n",
              "    <tr>\n",
              "      <th>mean</th>\n",
              "      <td>5403.459283</td>\n",
              "      <td>1621.245798</td>\n",
              "      <td>146.412162</td>\n",
              "      <td>342.00000</td>\n",
              "      <td>0.842199</td>\n",
              "    </tr>\n",
              "    <tr>\n",
              "      <th>std</th>\n",
              "      <td>6109.041673</td>\n",
              "      <td>2926.248369</td>\n",
              "      <td>85.587325</td>\n",
              "      <td>65.12041</td>\n",
              "      <td>0.364878</td>\n",
              "    </tr>\n",
              "    <tr>\n",
              "      <th>min</th>\n",
              "      <td>150.000000</td>\n",
              "      <td>0.000000</td>\n",
              "      <td>9.000000</td>\n",
              "      <td>12.00000</td>\n",
              "      <td>0.000000</td>\n",
              "    </tr>\n",
              "    <tr>\n",
              "      <th>25%</th>\n",
              "      <td>2877.500000</td>\n",
              "      <td>0.000000</td>\n",
              "      <td>100.000000</td>\n",
              "      <td>360.00000</td>\n",
              "      <td>1.000000</td>\n",
              "    </tr>\n",
              "    <tr>\n",
              "      <th>50%</th>\n",
              "      <td>3812.500000</td>\n",
              "      <td>1188.500000</td>\n",
              "      <td>128.000000</td>\n",
              "      <td>360.00000</td>\n",
              "      <td>1.000000</td>\n",
              "    </tr>\n",
              "    <tr>\n",
              "      <th>75%</th>\n",
              "      <td>5795.000000</td>\n",
              "      <td>2297.250000</td>\n",
              "      <td>168.000000</td>\n",
              "      <td>360.00000</td>\n",
              "      <td>1.000000</td>\n",
              "    </tr>\n",
              "    <tr>\n",
              "      <th>max</th>\n",
              "      <td>81000.000000</td>\n",
              "      <td>41667.000000</td>\n",
              "      <td>700.000000</td>\n",
              "      <td>480.00000</td>\n",
              "      <td>1.000000</td>\n",
              "    </tr>\n",
              "  </tbody>\n",
              "</table>\n",
              "</div>"
            ],
            "text/plain": [
              "       ApplicantIncome  CoapplicantIncome  ...  Loan_Amount_Term  Credit_History\n",
              "count       614.000000         614.000000  ...         600.00000      564.000000\n",
              "mean       5403.459283        1621.245798  ...         342.00000        0.842199\n",
              "std        6109.041673        2926.248369  ...          65.12041        0.364878\n",
              "min         150.000000           0.000000  ...          12.00000        0.000000\n",
              "25%        2877.500000           0.000000  ...         360.00000        1.000000\n",
              "50%        3812.500000        1188.500000  ...         360.00000        1.000000\n",
              "75%        5795.000000        2297.250000  ...         360.00000        1.000000\n",
              "max       81000.000000       41667.000000  ...         480.00000        1.000000\n",
              "\n",
              "[8 rows x 5 columns]"
            ]
          },
          "metadata": {
            "tags": []
          },
          "execution_count": 7
        }
      ]
    },
    {
      "cell_type": "markdown",
      "metadata": {
        "id": "zxqs-i5U0YUa"
      },
      "source": [
        "count = somme des valeurs de chaque enregistrement\r\n"
      ]
    },
    {
      "cell_type": "markdown",
      "metadata": {
        "id": "EKxK4JLf09v_"
      },
      "source": [
        "mean = moyenne \r\n"
      ]
    },
    {
      "cell_type": "markdown",
      "metadata": {
        "id": "gHKZBNqj1BZB"
      },
      "source": [
        "std = ecart-type pour 1er quartile (25%), 2eme(50%), et le 3 eme(75%)"
      ]
    },
    {
      "cell_type": "markdown",
      "metadata": {
        "id": "BbPaBrVN1Mmx"
      },
      "source": [
        "Détermination des valeurs erronées : Si l'on trouve par exemple une valeur qui est inférieur à la min (=150 dans ce cas) alors ça sera une valeur erronée (**outlayer**=valeur qui est à l'écart des autres). Même chose pour le max"
      ]
    },
    {
      "cell_type": "code",
      "metadata": {
        "colab": {
          "base_uri": "https://localhost:8080/",
          "height": 170
        },
        "id": "Fpct2Lcs1MMM",
        "outputId": "bdb34f24-891a-43c9-e701-c4efb5456c8a"
      },
      "source": [
        "#Pour les valeurs categoriques\r\n",
        "df.describe(include='O')"
      ],
      "execution_count": 8,
      "outputs": [
        {
          "output_type": "execute_result",
          "data": {
            "text/html": [
              "<div>\n",
              "<style scoped>\n",
              "    .dataframe tbody tr th:only-of-type {\n",
              "        vertical-align: middle;\n",
              "    }\n",
              "\n",
              "    .dataframe tbody tr th {\n",
              "        vertical-align: top;\n",
              "    }\n",
              "\n",
              "    .dataframe thead th {\n",
              "        text-align: right;\n",
              "    }\n",
              "</style>\n",
              "<table border=\"1\" class=\"dataframe\">\n",
              "  <thead>\n",
              "    <tr style=\"text-align: right;\">\n",
              "      <th></th>\n",
              "      <th>Loan_ID</th>\n",
              "      <th>Gender</th>\n",
              "      <th>Married</th>\n",
              "      <th>Dependents</th>\n",
              "      <th>Education</th>\n",
              "      <th>Self_Employed</th>\n",
              "      <th>Property_Area</th>\n",
              "      <th>Loan_Status</th>\n",
              "    </tr>\n",
              "  </thead>\n",
              "  <tbody>\n",
              "    <tr>\n",
              "      <th>count</th>\n",
              "      <td>614</td>\n",
              "      <td>601</td>\n",
              "      <td>611</td>\n",
              "      <td>599</td>\n",
              "      <td>614</td>\n",
              "      <td>582</td>\n",
              "      <td>614</td>\n",
              "      <td>614</td>\n",
              "    </tr>\n",
              "    <tr>\n",
              "      <th>unique</th>\n",
              "      <td>614</td>\n",
              "      <td>2</td>\n",
              "      <td>2</td>\n",
              "      <td>4</td>\n",
              "      <td>2</td>\n",
              "      <td>2</td>\n",
              "      <td>3</td>\n",
              "      <td>2</td>\n",
              "    </tr>\n",
              "    <tr>\n",
              "      <th>top</th>\n",
              "      <td>LP001529</td>\n",
              "      <td>Male</td>\n",
              "      <td>Yes</td>\n",
              "      <td>0</td>\n",
              "      <td>Graduate</td>\n",
              "      <td>No</td>\n",
              "      <td>Semiurban</td>\n",
              "      <td>Y</td>\n",
              "    </tr>\n",
              "    <tr>\n",
              "      <th>freq</th>\n",
              "      <td>1</td>\n",
              "      <td>489</td>\n",
              "      <td>398</td>\n",
              "      <td>345</td>\n",
              "      <td>480</td>\n",
              "      <td>500</td>\n",
              "      <td>233</td>\n",
              "      <td>422</td>\n",
              "    </tr>\n",
              "  </tbody>\n",
              "</table>\n",
              "</div>"
            ],
            "text/plain": [
              "         Loan_ID Gender Married  ... Self_Employed Property_Area Loan_Status\n",
              "count        614    601     611  ...           582           614         614\n",
              "unique       614      2       2  ...             2             3           2\n",
              "top     LP001529   Male     Yes  ...            No     Semiurban           Y\n",
              "freq           1    489     398  ...           500           233         422\n",
              "\n",
              "[4 rows x 8 columns]"
            ]
          },
          "metadata": {
            "tags": []
          },
          "execution_count": 8
        }
      ]
    },
    {
      "cell_type": "code",
      "metadata": {
        "colab": {
          "base_uri": "https://localhost:8080/"
        },
        "id": "WCg6vYQD1FKx",
        "outputId": "f735a779-6cb5-4a09-814a-7d5a61d4bd3d"
      },
      "source": [
        "#renseigner les valeurs manquantes\r\n",
        "#On cree 2 listes(ce sont des listes contenant d'autres listes)\r\n",
        "cat_data=[]\r\n",
        "num_data=[]\r\n",
        "for i,c in enumerate(df.dtypes):#on va classer les attributs selon leur type\r\n",
        "   if c==object:\r\n",
        "     cat_data.append(df.iloc[:,i])#iloc permet de selctionner toute la colonne\r\n",
        "   else:\r\n",
        "     num_data.append(df.iloc[:,i])\r\n",
        "cat_data"
      ],
      "execution_count": 9,
      "outputs": [
        {
          "output_type": "execute_result",
          "data": {
            "text/plain": [
              "[0      LP001002\n",
              " 1      LP001003\n",
              " 2      LP001005\n",
              " 3      LP001006\n",
              " 4      LP001008\n",
              "          ...   \n",
              " 609    LP002978\n",
              " 610    LP002979\n",
              " 611    LP002983\n",
              " 612    LP002984\n",
              " 613    LP002990\n",
              " Name: Loan_ID, Length: 614, dtype: object, 0        Male\n",
              " 1        Male\n",
              " 2        Male\n",
              " 3        Male\n",
              " 4        Male\n",
              "         ...  \n",
              " 609    Female\n",
              " 610      Male\n",
              " 611      Male\n",
              " 612      Male\n",
              " 613    Female\n",
              " Name: Gender, Length: 614, dtype: object, 0       No\n",
              " 1      Yes\n",
              " 2      Yes\n",
              " 3      Yes\n",
              " 4       No\n",
              "       ... \n",
              " 609     No\n",
              " 610    Yes\n",
              " 611    Yes\n",
              " 612    Yes\n",
              " 613     No\n",
              " Name: Married, Length: 614, dtype: object, 0       0\n",
              " 1       1\n",
              " 2       0\n",
              " 3       0\n",
              " 4       0\n",
              "        ..\n",
              " 609     0\n",
              " 610    3+\n",
              " 611     1\n",
              " 612     2\n",
              " 613     0\n",
              " Name: Dependents, Length: 614, dtype: object, 0          Graduate\n",
              " 1          Graduate\n",
              " 2          Graduate\n",
              " 3      Not Graduate\n",
              " 4          Graduate\n",
              "            ...     \n",
              " 609        Graduate\n",
              " 610        Graduate\n",
              " 611        Graduate\n",
              " 612        Graduate\n",
              " 613        Graduate\n",
              " Name: Education, Length: 614, dtype: object, 0       No\n",
              " 1       No\n",
              " 2      Yes\n",
              " 3       No\n",
              " 4       No\n",
              "       ... \n",
              " 609     No\n",
              " 610     No\n",
              " 611     No\n",
              " 612     No\n",
              " 613    Yes\n",
              " Name: Self_Employed, Length: 614, dtype: object, 0          Urban\n",
              " 1          Rural\n",
              " 2          Urban\n",
              " 3          Urban\n",
              " 4          Urban\n",
              "          ...    \n",
              " 609        Rural\n",
              " 610        Rural\n",
              " 611        Urban\n",
              " 612        Urban\n",
              " 613    Semiurban\n",
              " Name: Property_Area, Length: 614, dtype: object, 0      Y\n",
              " 1      N\n",
              " 2      Y\n",
              " 3      Y\n",
              " 4      Y\n",
              "       ..\n",
              " 609    Y\n",
              " 610    Y\n",
              " 611    Y\n",
              " 612    Y\n",
              " 613    N\n",
              " Name: Loan_Status, Length: 614, dtype: object]"
            ]
          },
          "metadata": {
            "tags": []
          },
          "execution_count": 9
        }
      ]
    },
    {
      "cell_type": "markdown",
      "metadata": {
        "id": "os80SGLePWAB"
      },
      "source": [
        "**Remarque :** On peut pas manipuler les deux listes cat_data et num_data, on doit les transformer à des BDD\r\n"
      ]
    },
    {
      "cell_type": "code",
      "metadata": {
        "colab": {
          "base_uri": "https://localhost:8080/",
          "height": 357
        },
        "id": "rjVNqwY7O3G8",
        "outputId": "39fcb0a6-a25a-4b1e-afbe-99f6e8561d00"
      },
      "source": [
        "#transformer nos listes a des BDDs\r\n",
        "\r\n",
        "cat_data=pd.DataFrame(cat_data)\r\n",
        "cat_data"
      ],
      "execution_count": 10,
      "outputs": [
        {
          "output_type": "execute_result",
          "data": {
            "text/html": [
              "<div>\n",
              "<style scoped>\n",
              "    .dataframe tbody tr th:only-of-type {\n",
              "        vertical-align: middle;\n",
              "    }\n",
              "\n",
              "    .dataframe tbody tr th {\n",
              "        vertical-align: top;\n",
              "    }\n",
              "\n",
              "    .dataframe thead th {\n",
              "        text-align: right;\n",
              "    }\n",
              "</style>\n",
              "<table border=\"1\" class=\"dataframe\">\n",
              "  <thead>\n",
              "    <tr style=\"text-align: right;\">\n",
              "      <th></th>\n",
              "      <th>0</th>\n",
              "      <th>1</th>\n",
              "      <th>2</th>\n",
              "      <th>3</th>\n",
              "      <th>4</th>\n",
              "      <th>5</th>\n",
              "      <th>6</th>\n",
              "      <th>7</th>\n",
              "      <th>8</th>\n",
              "      <th>9</th>\n",
              "      <th>10</th>\n",
              "      <th>11</th>\n",
              "      <th>12</th>\n",
              "      <th>13</th>\n",
              "      <th>14</th>\n",
              "      <th>15</th>\n",
              "      <th>16</th>\n",
              "      <th>17</th>\n",
              "      <th>18</th>\n",
              "      <th>19</th>\n",
              "      <th>20</th>\n",
              "      <th>21</th>\n",
              "      <th>22</th>\n",
              "      <th>23</th>\n",
              "      <th>24</th>\n",
              "      <th>25</th>\n",
              "      <th>26</th>\n",
              "      <th>27</th>\n",
              "      <th>28</th>\n",
              "      <th>29</th>\n",
              "      <th>30</th>\n",
              "      <th>31</th>\n",
              "      <th>32</th>\n",
              "      <th>33</th>\n",
              "      <th>34</th>\n",
              "      <th>35</th>\n",
              "      <th>36</th>\n",
              "      <th>37</th>\n",
              "      <th>38</th>\n",
              "      <th>39</th>\n",
              "      <th>...</th>\n",
              "      <th>574</th>\n",
              "      <th>575</th>\n",
              "      <th>576</th>\n",
              "      <th>577</th>\n",
              "      <th>578</th>\n",
              "      <th>579</th>\n",
              "      <th>580</th>\n",
              "      <th>581</th>\n",
              "      <th>582</th>\n",
              "      <th>583</th>\n",
              "      <th>584</th>\n",
              "      <th>585</th>\n",
              "      <th>586</th>\n",
              "      <th>587</th>\n",
              "      <th>588</th>\n",
              "      <th>589</th>\n",
              "      <th>590</th>\n",
              "      <th>591</th>\n",
              "      <th>592</th>\n",
              "      <th>593</th>\n",
              "      <th>594</th>\n",
              "      <th>595</th>\n",
              "      <th>596</th>\n",
              "      <th>597</th>\n",
              "      <th>598</th>\n",
              "      <th>599</th>\n",
              "      <th>600</th>\n",
              "      <th>601</th>\n",
              "      <th>602</th>\n",
              "      <th>603</th>\n",
              "      <th>604</th>\n",
              "      <th>605</th>\n",
              "      <th>606</th>\n",
              "      <th>607</th>\n",
              "      <th>608</th>\n",
              "      <th>609</th>\n",
              "      <th>610</th>\n",
              "      <th>611</th>\n",
              "      <th>612</th>\n",
              "      <th>613</th>\n",
              "    </tr>\n",
              "  </thead>\n",
              "  <tbody>\n",
              "    <tr>\n",
              "      <th>Loan_ID</th>\n",
              "      <td>LP001002</td>\n",
              "      <td>LP001003</td>\n",
              "      <td>LP001005</td>\n",
              "      <td>LP001006</td>\n",
              "      <td>LP001008</td>\n",
              "      <td>LP001011</td>\n",
              "      <td>LP001013</td>\n",
              "      <td>LP001014</td>\n",
              "      <td>LP001018</td>\n",
              "      <td>LP001020</td>\n",
              "      <td>LP001024</td>\n",
              "      <td>LP001027</td>\n",
              "      <td>LP001028</td>\n",
              "      <td>LP001029</td>\n",
              "      <td>LP001030</td>\n",
              "      <td>LP001032</td>\n",
              "      <td>LP001034</td>\n",
              "      <td>LP001036</td>\n",
              "      <td>LP001038</td>\n",
              "      <td>LP001041</td>\n",
              "      <td>LP001043</td>\n",
              "      <td>LP001046</td>\n",
              "      <td>LP001047</td>\n",
              "      <td>LP001050</td>\n",
              "      <td>LP001052</td>\n",
              "      <td>LP001066</td>\n",
              "      <td>LP001068</td>\n",
              "      <td>LP001073</td>\n",
              "      <td>LP001086</td>\n",
              "      <td>LP001087</td>\n",
              "      <td>LP001091</td>\n",
              "      <td>LP001095</td>\n",
              "      <td>LP001097</td>\n",
              "      <td>LP001098</td>\n",
              "      <td>LP001100</td>\n",
              "      <td>LP001106</td>\n",
              "      <td>LP001109</td>\n",
              "      <td>LP001112</td>\n",
              "      <td>LP001114</td>\n",
              "      <td>LP001116</td>\n",
              "      <td>...</td>\n",
              "      <td>LP002863</td>\n",
              "      <td>LP002868</td>\n",
              "      <td>LP002872</td>\n",
              "      <td>LP002874</td>\n",
              "      <td>LP002877</td>\n",
              "      <td>LP002888</td>\n",
              "      <td>LP002892</td>\n",
              "      <td>LP002893</td>\n",
              "      <td>LP002894</td>\n",
              "      <td>LP002898</td>\n",
              "      <td>LP002911</td>\n",
              "      <td>LP002912</td>\n",
              "      <td>LP002916</td>\n",
              "      <td>LP002917</td>\n",
              "      <td>LP002925</td>\n",
              "      <td>LP002926</td>\n",
              "      <td>LP002928</td>\n",
              "      <td>LP002931</td>\n",
              "      <td>LP002933</td>\n",
              "      <td>LP002936</td>\n",
              "      <td>LP002938</td>\n",
              "      <td>LP002940</td>\n",
              "      <td>LP002941</td>\n",
              "      <td>LP002943</td>\n",
              "      <td>LP002945</td>\n",
              "      <td>LP002948</td>\n",
              "      <td>LP002949</td>\n",
              "      <td>LP002950</td>\n",
              "      <td>LP002953</td>\n",
              "      <td>LP002958</td>\n",
              "      <td>LP002959</td>\n",
              "      <td>LP002960</td>\n",
              "      <td>LP002961</td>\n",
              "      <td>LP002964</td>\n",
              "      <td>LP002974</td>\n",
              "      <td>LP002978</td>\n",
              "      <td>LP002979</td>\n",
              "      <td>LP002983</td>\n",
              "      <td>LP002984</td>\n",
              "      <td>LP002990</td>\n",
              "    </tr>\n",
              "    <tr>\n",
              "      <th>Gender</th>\n",
              "      <td>Male</td>\n",
              "      <td>Male</td>\n",
              "      <td>Male</td>\n",
              "      <td>Male</td>\n",
              "      <td>Male</td>\n",
              "      <td>Male</td>\n",
              "      <td>Male</td>\n",
              "      <td>Male</td>\n",
              "      <td>Male</td>\n",
              "      <td>Male</td>\n",
              "      <td>Male</td>\n",
              "      <td>Male</td>\n",
              "      <td>Male</td>\n",
              "      <td>Male</td>\n",
              "      <td>Male</td>\n",
              "      <td>Male</td>\n",
              "      <td>Male</td>\n",
              "      <td>Female</td>\n",
              "      <td>Male</td>\n",
              "      <td>Male</td>\n",
              "      <td>Male</td>\n",
              "      <td>Male</td>\n",
              "      <td>Male</td>\n",
              "      <td>NaN</td>\n",
              "      <td>Male</td>\n",
              "      <td>Male</td>\n",
              "      <td>Male</td>\n",
              "      <td>Male</td>\n",
              "      <td>Male</td>\n",
              "      <td>Female</td>\n",
              "      <td>Male</td>\n",
              "      <td>Male</td>\n",
              "      <td>Male</td>\n",
              "      <td>Male</td>\n",
              "      <td>Male</td>\n",
              "      <td>Male</td>\n",
              "      <td>Male</td>\n",
              "      <td>Female</td>\n",
              "      <td>Male</td>\n",
              "      <td>Male</td>\n",
              "      <td>...</td>\n",
              "      <td>Male</td>\n",
              "      <td>Male</td>\n",
              "      <td>NaN</td>\n",
              "      <td>Male</td>\n",
              "      <td>Male</td>\n",
              "      <td>Male</td>\n",
              "      <td>Male</td>\n",
              "      <td>Male</td>\n",
              "      <td>Female</td>\n",
              "      <td>Male</td>\n",
              "      <td>Male</td>\n",
              "      <td>Male</td>\n",
              "      <td>Male</td>\n",
              "      <td>Female</td>\n",
              "      <td>NaN</td>\n",
              "      <td>Male</td>\n",
              "      <td>Male</td>\n",
              "      <td>Male</td>\n",
              "      <td>NaN</td>\n",
              "      <td>Male</td>\n",
              "      <td>Male</td>\n",
              "      <td>Male</td>\n",
              "      <td>Male</td>\n",
              "      <td>Male</td>\n",
              "      <td>Male</td>\n",
              "      <td>Male</td>\n",
              "      <td>Female</td>\n",
              "      <td>Male</td>\n",
              "      <td>Male</td>\n",
              "      <td>Male</td>\n",
              "      <td>Female</td>\n",
              "      <td>Male</td>\n",
              "      <td>Male</td>\n",
              "      <td>Male</td>\n",
              "      <td>Male</td>\n",
              "      <td>Female</td>\n",
              "      <td>Male</td>\n",
              "      <td>Male</td>\n",
              "      <td>Male</td>\n",
              "      <td>Female</td>\n",
              "    </tr>\n",
              "    <tr>\n",
              "      <th>Married</th>\n",
              "      <td>No</td>\n",
              "      <td>Yes</td>\n",
              "      <td>Yes</td>\n",
              "      <td>Yes</td>\n",
              "      <td>No</td>\n",
              "      <td>Yes</td>\n",
              "      <td>Yes</td>\n",
              "      <td>Yes</td>\n",
              "      <td>Yes</td>\n",
              "      <td>Yes</td>\n",
              "      <td>Yes</td>\n",
              "      <td>Yes</td>\n",
              "      <td>Yes</td>\n",
              "      <td>No</td>\n",
              "      <td>Yes</td>\n",
              "      <td>No</td>\n",
              "      <td>No</td>\n",
              "      <td>No</td>\n",
              "      <td>Yes</td>\n",
              "      <td>Yes</td>\n",
              "      <td>Yes</td>\n",
              "      <td>Yes</td>\n",
              "      <td>Yes</td>\n",
              "      <td>Yes</td>\n",
              "      <td>Yes</td>\n",
              "      <td>Yes</td>\n",
              "      <td>Yes</td>\n",
              "      <td>Yes</td>\n",
              "      <td>No</td>\n",
              "      <td>No</td>\n",
              "      <td>Yes</td>\n",
              "      <td>No</td>\n",
              "      <td>No</td>\n",
              "      <td>Yes</td>\n",
              "      <td>No</td>\n",
              "      <td>Yes</td>\n",
              "      <td>Yes</td>\n",
              "      <td>Yes</td>\n",
              "      <td>No</td>\n",
              "      <td>No</td>\n",
              "      <td>...</td>\n",
              "      <td>Yes</td>\n",
              "      <td>Yes</td>\n",
              "      <td>Yes</td>\n",
              "      <td>No</td>\n",
              "      <td>Yes</td>\n",
              "      <td>No</td>\n",
              "      <td>Yes</td>\n",
              "      <td>No</td>\n",
              "      <td>Yes</td>\n",
              "      <td>Yes</td>\n",
              "      <td>Yes</td>\n",
              "      <td>Yes</td>\n",
              "      <td>Yes</td>\n",
              "      <td>No</td>\n",
              "      <td>No</td>\n",
              "      <td>Yes</td>\n",
              "      <td>Yes</td>\n",
              "      <td>Yes</td>\n",
              "      <td>No</td>\n",
              "      <td>Yes</td>\n",
              "      <td>Yes</td>\n",
              "      <td>No</td>\n",
              "      <td>Yes</td>\n",
              "      <td>No</td>\n",
              "      <td>Yes</td>\n",
              "      <td>Yes</td>\n",
              "      <td>No</td>\n",
              "      <td>Yes</td>\n",
              "      <td>Yes</td>\n",
              "      <td>No</td>\n",
              "      <td>Yes</td>\n",
              "      <td>Yes</td>\n",
              "      <td>Yes</td>\n",
              "      <td>Yes</td>\n",
              "      <td>Yes</td>\n",
              "      <td>No</td>\n",
              "      <td>Yes</td>\n",
              "      <td>Yes</td>\n",
              "      <td>Yes</td>\n",
              "      <td>No</td>\n",
              "    </tr>\n",
              "    <tr>\n",
              "      <th>Dependents</th>\n",
              "      <td>0</td>\n",
              "      <td>1</td>\n",
              "      <td>0</td>\n",
              "      <td>0</td>\n",
              "      <td>0</td>\n",
              "      <td>2</td>\n",
              "      <td>0</td>\n",
              "      <td>3+</td>\n",
              "      <td>2</td>\n",
              "      <td>1</td>\n",
              "      <td>2</td>\n",
              "      <td>2</td>\n",
              "      <td>2</td>\n",
              "      <td>0</td>\n",
              "      <td>2</td>\n",
              "      <td>0</td>\n",
              "      <td>1</td>\n",
              "      <td>0</td>\n",
              "      <td>0</td>\n",
              "      <td>0</td>\n",
              "      <td>0</td>\n",
              "      <td>1</td>\n",
              "      <td>0</td>\n",
              "      <td>2</td>\n",
              "      <td>1</td>\n",
              "      <td>0</td>\n",
              "      <td>0</td>\n",
              "      <td>2</td>\n",
              "      <td>0</td>\n",
              "      <td>2</td>\n",
              "      <td>1</td>\n",
              "      <td>0</td>\n",
              "      <td>1</td>\n",
              "      <td>0</td>\n",
              "      <td>3+</td>\n",
              "      <td>0</td>\n",
              "      <td>0</td>\n",
              "      <td>0</td>\n",
              "      <td>0</td>\n",
              "      <td>0</td>\n",
              "      <td>...</td>\n",
              "      <td>3+</td>\n",
              "      <td>2</td>\n",
              "      <td>0</td>\n",
              "      <td>0</td>\n",
              "      <td>1</td>\n",
              "      <td>0</td>\n",
              "      <td>2</td>\n",
              "      <td>0</td>\n",
              "      <td>0</td>\n",
              "      <td>1</td>\n",
              "      <td>1</td>\n",
              "      <td>1</td>\n",
              "      <td>0</td>\n",
              "      <td>0</td>\n",
              "      <td>0</td>\n",
              "      <td>2</td>\n",
              "      <td>0</td>\n",
              "      <td>2</td>\n",
              "      <td>3+</td>\n",
              "      <td>0</td>\n",
              "      <td>0</td>\n",
              "      <td>0</td>\n",
              "      <td>2</td>\n",
              "      <td>NaN</td>\n",
              "      <td>0</td>\n",
              "      <td>2</td>\n",
              "      <td>3+</td>\n",
              "      <td>0</td>\n",
              "      <td>3+</td>\n",
              "      <td>0</td>\n",
              "      <td>1</td>\n",
              "      <td>0</td>\n",
              "      <td>1</td>\n",
              "      <td>2</td>\n",
              "      <td>0</td>\n",
              "      <td>0</td>\n",
              "      <td>3+</td>\n",
              "      <td>1</td>\n",
              "      <td>2</td>\n",
              "      <td>0</td>\n",
              "    </tr>\n",
              "    <tr>\n",
              "      <th>Education</th>\n",
              "      <td>Graduate</td>\n",
              "      <td>Graduate</td>\n",
              "      <td>Graduate</td>\n",
              "      <td>Not Graduate</td>\n",
              "      <td>Graduate</td>\n",
              "      <td>Graduate</td>\n",
              "      <td>Not Graduate</td>\n",
              "      <td>Graduate</td>\n",
              "      <td>Graduate</td>\n",
              "      <td>Graduate</td>\n",
              "      <td>Graduate</td>\n",
              "      <td>Graduate</td>\n",
              "      <td>Graduate</td>\n",
              "      <td>Graduate</td>\n",
              "      <td>Graduate</td>\n",
              "      <td>Graduate</td>\n",
              "      <td>Not Graduate</td>\n",
              "      <td>Graduate</td>\n",
              "      <td>Not Graduate</td>\n",
              "      <td>Graduate</td>\n",
              "      <td>Not Graduate</td>\n",
              "      <td>Graduate</td>\n",
              "      <td>Not Graduate</td>\n",
              "      <td>Not Graduate</td>\n",
              "      <td>Graduate</td>\n",
              "      <td>Graduate</td>\n",
              "      <td>Graduate</td>\n",
              "      <td>Not Graduate</td>\n",
              "      <td>Not Graduate</td>\n",
              "      <td>Graduate</td>\n",
              "      <td>Graduate</td>\n",
              "      <td>Graduate</td>\n",
              "      <td>Graduate</td>\n",
              "      <td>Graduate</td>\n",
              "      <td>Graduate</td>\n",
              "      <td>Graduate</td>\n",
              "      <td>Graduate</td>\n",
              "      <td>Graduate</td>\n",
              "      <td>Graduate</td>\n",
              "      <td>Not Graduate</td>\n",
              "      <td>...</td>\n",
              "      <td>Graduate</td>\n",
              "      <td>Graduate</td>\n",
              "      <td>Graduate</td>\n",
              "      <td>Graduate</td>\n",
              "      <td>Graduate</td>\n",
              "      <td>Graduate</td>\n",
              "      <td>Graduate</td>\n",
              "      <td>Graduate</td>\n",
              "      <td>Graduate</td>\n",
              "      <td>Graduate</td>\n",
              "      <td>Graduate</td>\n",
              "      <td>Graduate</td>\n",
              "      <td>Graduate</td>\n",
              "      <td>Not Graduate</td>\n",
              "      <td>Graduate</td>\n",
              "      <td>Graduate</td>\n",
              "      <td>Graduate</td>\n",
              "      <td>Graduate</td>\n",
              "      <td>Graduate</td>\n",
              "      <td>Graduate</td>\n",
              "      <td>Graduate</td>\n",
              "      <td>Not Graduate</td>\n",
              "      <td>Not Graduate</td>\n",
              "      <td>Graduate</td>\n",
              "      <td>Graduate</td>\n",
              "      <td>Graduate</td>\n",
              "      <td>Graduate</td>\n",
              "      <td>Not Graduate</td>\n",
              "      <td>Graduate</td>\n",
              "      <td>Graduate</td>\n",
              "      <td>Graduate</td>\n",
              "      <td>Not Graduate</td>\n",
              "      <td>Graduate</td>\n",
              "      <td>Not Graduate</td>\n",
              "      <td>Graduate</td>\n",
              "      <td>Graduate</td>\n",
              "      <td>Graduate</td>\n",
              "      <td>Graduate</td>\n",
              "      <td>Graduate</td>\n",
              "      <td>Graduate</td>\n",
              "    </tr>\n",
              "    <tr>\n",
              "      <th>Self_Employed</th>\n",
              "      <td>No</td>\n",
              "      <td>No</td>\n",
              "      <td>Yes</td>\n",
              "      <td>No</td>\n",
              "      <td>No</td>\n",
              "      <td>Yes</td>\n",
              "      <td>No</td>\n",
              "      <td>No</td>\n",
              "      <td>No</td>\n",
              "      <td>No</td>\n",
              "      <td>No</td>\n",
              "      <td>NaN</td>\n",
              "      <td>No</td>\n",
              "      <td>No</td>\n",
              "      <td>No</td>\n",
              "      <td>No</td>\n",
              "      <td>No</td>\n",
              "      <td>No</td>\n",
              "      <td>No</td>\n",
              "      <td>NaN</td>\n",
              "      <td>No</td>\n",
              "      <td>No</td>\n",
              "      <td>No</td>\n",
              "      <td>No</td>\n",
              "      <td>NaN</td>\n",
              "      <td>Yes</td>\n",
              "      <td>No</td>\n",
              "      <td>No</td>\n",
              "      <td>No</td>\n",
              "      <td>NaN</td>\n",
              "      <td>NaN</td>\n",
              "      <td>No</td>\n",
              "      <td>Yes</td>\n",
              "      <td>No</td>\n",
              "      <td>No</td>\n",
              "      <td>No</td>\n",
              "      <td>No</td>\n",
              "      <td>No</td>\n",
              "      <td>No</td>\n",
              "      <td>No</td>\n",
              "      <td>...</td>\n",
              "      <td>No</td>\n",
              "      <td>No</td>\n",
              "      <td>No</td>\n",
              "      <td>No</td>\n",
              "      <td>No</td>\n",
              "      <td>NaN</td>\n",
              "      <td>No</td>\n",
              "      <td>No</td>\n",
              "      <td>No</td>\n",
              "      <td>No</td>\n",
              "      <td>No</td>\n",
              "      <td>No</td>\n",
              "      <td>No</td>\n",
              "      <td>No</td>\n",
              "      <td>No</td>\n",
              "      <td>Yes</td>\n",
              "      <td>No</td>\n",
              "      <td>Yes</td>\n",
              "      <td>Yes</td>\n",
              "      <td>No</td>\n",
              "      <td>Yes</td>\n",
              "      <td>No</td>\n",
              "      <td>Yes</td>\n",
              "      <td>No</td>\n",
              "      <td>Yes</td>\n",
              "      <td>No</td>\n",
              "      <td>NaN</td>\n",
              "      <td>NaN</td>\n",
              "      <td>No</td>\n",
              "      <td>No</td>\n",
              "      <td>No</td>\n",
              "      <td>No</td>\n",
              "      <td>No</td>\n",
              "      <td>No</td>\n",
              "      <td>No</td>\n",
              "      <td>No</td>\n",
              "      <td>No</td>\n",
              "      <td>No</td>\n",
              "      <td>No</td>\n",
              "      <td>Yes</td>\n",
              "    </tr>\n",
              "    <tr>\n",
              "      <th>Property_Area</th>\n",
              "      <td>Urban</td>\n",
              "      <td>Rural</td>\n",
              "      <td>Urban</td>\n",
              "      <td>Urban</td>\n",
              "      <td>Urban</td>\n",
              "      <td>Urban</td>\n",
              "      <td>Urban</td>\n",
              "      <td>Semiurban</td>\n",
              "      <td>Urban</td>\n",
              "      <td>Semiurban</td>\n",
              "      <td>Urban</td>\n",
              "      <td>Urban</td>\n",
              "      <td>Urban</td>\n",
              "      <td>Rural</td>\n",
              "      <td>Urban</td>\n",
              "      <td>Urban</td>\n",
              "      <td>Urban</td>\n",
              "      <td>Urban</td>\n",
              "      <td>Rural</td>\n",
              "      <td>Urban</td>\n",
              "      <td>Urban</td>\n",
              "      <td>Urban</td>\n",
              "      <td>Semiurban</td>\n",
              "      <td>Rural</td>\n",
              "      <td>Semiurban</td>\n",
              "      <td>Semiurban</td>\n",
              "      <td>Semiurban</td>\n",
              "      <td>Urban</td>\n",
              "      <td>Urban</td>\n",
              "      <td>Semiurban</td>\n",
              "      <td>Urban</td>\n",
              "      <td>Urban</td>\n",
              "      <td>Rural</td>\n",
              "      <td>Semiurban</td>\n",
              "      <td>Rural</td>\n",
              "      <td>Urban</td>\n",
              "      <td>Urban</td>\n",
              "      <td>Semiurban</td>\n",
              "      <td>Urban</td>\n",
              "      <td>Semiurban</td>\n",
              "      <td>...</td>\n",
              "      <td>Semiurban</td>\n",
              "      <td>Urban</td>\n",
              "      <td>Semiurban</td>\n",
              "      <td>Urban</td>\n",
              "      <td>Rural</td>\n",
              "      <td>Urban</td>\n",
              "      <td>Semiurban</td>\n",
              "      <td>Urban</td>\n",
              "      <td>Semiurban</td>\n",
              "      <td>Rural</td>\n",
              "      <td>Rural</td>\n",
              "      <td>Rural</td>\n",
              "      <td>Urban</td>\n",
              "      <td>Semiurban</td>\n",
              "      <td>Semiurban</td>\n",
              "      <td>Semiurban</td>\n",
              "      <td>Semiurban</td>\n",
              "      <td>Semiurban</td>\n",
              "      <td>Semiurban</td>\n",
              "      <td>Rural</td>\n",
              "      <td>Urban</td>\n",
              "      <td>Rural</td>\n",
              "      <td>Rural</td>\n",
              "      <td>Semiurban</td>\n",
              "      <td>Rural</td>\n",
              "      <td>Urban</td>\n",
              "      <td>Urban</td>\n",
              "      <td>Rural</td>\n",
              "      <td>Urban</td>\n",
              "      <td>Rural</td>\n",
              "      <td>Semiurban</td>\n",
              "      <td>Urban</td>\n",
              "      <td>Semiurban</td>\n",
              "      <td>Rural</td>\n",
              "      <td>Rural</td>\n",
              "      <td>Rural</td>\n",
              "      <td>Rural</td>\n",
              "      <td>Urban</td>\n",
              "      <td>Urban</td>\n",
              "      <td>Semiurban</td>\n",
              "    </tr>\n",
              "    <tr>\n",
              "      <th>Loan_Status</th>\n",
              "      <td>Y</td>\n",
              "      <td>N</td>\n",
              "      <td>Y</td>\n",
              "      <td>Y</td>\n",
              "      <td>Y</td>\n",
              "      <td>Y</td>\n",
              "      <td>Y</td>\n",
              "      <td>N</td>\n",
              "      <td>Y</td>\n",
              "      <td>N</td>\n",
              "      <td>Y</td>\n",
              "      <td>Y</td>\n",
              "      <td>Y</td>\n",
              "      <td>N</td>\n",
              "      <td>Y</td>\n",
              "      <td>Y</td>\n",
              "      <td>Y</td>\n",
              "      <td>N</td>\n",
              "      <td>N</td>\n",
              "      <td>Y</td>\n",
              "      <td>N</td>\n",
              "      <td>Y</td>\n",
              "      <td>N</td>\n",
              "      <td>N</td>\n",
              "      <td>N</td>\n",
              "      <td>Y</td>\n",
              "      <td>Y</td>\n",
              "      <td>Y</td>\n",
              "      <td>N</td>\n",
              "      <td>Y</td>\n",
              "      <td>N</td>\n",
              "      <td>N</td>\n",
              "      <td>N</td>\n",
              "      <td>Y</td>\n",
              "      <td>N</td>\n",
              "      <td>Y</td>\n",
              "      <td>N</td>\n",
              "      <td>Y</td>\n",
              "      <td>Y</td>\n",
              "      <td>Y</td>\n",
              "      <td>...</td>\n",
              "      <td>N</td>\n",
              "      <td>Y</td>\n",
              "      <td>N</td>\n",
              "      <td>Y</td>\n",
              "      <td>Y</td>\n",
              "      <td>Y</td>\n",
              "      <td>Y</td>\n",
              "      <td>N</td>\n",
              "      <td>Y</td>\n",
              "      <td>N</td>\n",
              "      <td>N</td>\n",
              "      <td>N</td>\n",
              "      <td>Y</td>\n",
              "      <td>Y</td>\n",
              "      <td>Y</td>\n",
              "      <td>N</td>\n",
              "      <td>Y</td>\n",
              "      <td>N</td>\n",
              "      <td>Y</td>\n",
              "      <td>Y</td>\n",
              "      <td>Y</td>\n",
              "      <td>Y</td>\n",
              "      <td>N</td>\n",
              "      <td>N</td>\n",
              "      <td>Y</td>\n",
              "      <td>Y</td>\n",
              "      <td>N</td>\n",
              "      <td>Y</td>\n",
              "      <td>Y</td>\n",
              "      <td>Y</td>\n",
              "      <td>Y</td>\n",
              "      <td>N</td>\n",
              "      <td>Y</td>\n",
              "      <td>Y</td>\n",
              "      <td>Y</td>\n",
              "      <td>Y</td>\n",
              "      <td>Y</td>\n",
              "      <td>Y</td>\n",
              "      <td>Y</td>\n",
              "      <td>N</td>\n",
              "    </tr>\n",
              "  </tbody>\n",
              "</table>\n",
              "<p>8 rows × 614 columns</p>\n",
              "</div>"
            ],
            "text/plain": [
              "                    0         1         2    ...       611       612        613\n",
              "Loan_ID        LP001002  LP001003  LP001005  ...  LP002983  LP002984   LP002990\n",
              "Gender             Male      Male      Male  ...      Male      Male     Female\n",
              "Married              No       Yes       Yes  ...       Yes       Yes         No\n",
              "Dependents            0         1         0  ...         1         2          0\n",
              "Education      Graduate  Graduate  Graduate  ...  Graduate  Graduate   Graduate\n",
              "Self_Employed        No        No       Yes  ...        No        No        Yes\n",
              "Property_Area     Urban     Rural     Urban  ...     Urban     Urban  Semiurban\n",
              "Loan_Status           Y         N         Y  ...         Y         Y          N\n",
              "\n",
              "[8 rows x 614 columns]"
            ]
          },
          "metadata": {
            "tags": []
          },
          "execution_count": 10
        }
      ]
    },
    {
      "cell_type": "markdown",
      "metadata": {
        "id": "iFZMJvmaQbzZ"
      },
      "source": [
        "La base de données qu'on a obtenue est inversée vue qu’on a appliqué la fonction DataFrame sur la liste cat_data, et donc elle a pris les indices comme étant des attributs. Pour résoudre ce problème on doit utiliser la transposé"
      ]
    },
    {
      "cell_type": "code",
      "metadata": {
        "colab": {
          "base_uri": "https://localhost:8080/",
          "height": 411
        },
        "id": "QP6w0kOCRK9k",
        "outputId": "dd1db29c-9e03-4da9-faf9-2b78fadc1421"
      },
      "source": [
        "cat_data=pd.DataFrame(cat_data).transpose()\r\n",
        "cat_data"
      ],
      "execution_count": 11,
      "outputs": [
        {
          "output_type": "execute_result",
          "data": {
            "text/html": [
              "<div>\n",
              "<style scoped>\n",
              "    .dataframe tbody tr th:only-of-type {\n",
              "        vertical-align: middle;\n",
              "    }\n",
              "\n",
              "    .dataframe tbody tr th {\n",
              "        vertical-align: top;\n",
              "    }\n",
              "\n",
              "    .dataframe thead th {\n",
              "        text-align: right;\n",
              "    }\n",
              "</style>\n",
              "<table border=\"1\" class=\"dataframe\">\n",
              "  <thead>\n",
              "    <tr style=\"text-align: right;\">\n",
              "      <th></th>\n",
              "      <th>Loan_ID</th>\n",
              "      <th>Gender</th>\n",
              "      <th>Married</th>\n",
              "      <th>Dependents</th>\n",
              "      <th>Education</th>\n",
              "      <th>Self_Employed</th>\n",
              "      <th>Property_Area</th>\n",
              "      <th>Loan_Status</th>\n",
              "    </tr>\n",
              "  </thead>\n",
              "  <tbody>\n",
              "    <tr>\n",
              "      <th>0</th>\n",
              "      <td>LP001002</td>\n",
              "      <td>Male</td>\n",
              "      <td>No</td>\n",
              "      <td>0</td>\n",
              "      <td>Graduate</td>\n",
              "      <td>No</td>\n",
              "      <td>Urban</td>\n",
              "      <td>Y</td>\n",
              "    </tr>\n",
              "    <tr>\n",
              "      <th>1</th>\n",
              "      <td>LP001003</td>\n",
              "      <td>Male</td>\n",
              "      <td>Yes</td>\n",
              "      <td>1</td>\n",
              "      <td>Graduate</td>\n",
              "      <td>No</td>\n",
              "      <td>Rural</td>\n",
              "      <td>N</td>\n",
              "    </tr>\n",
              "    <tr>\n",
              "      <th>2</th>\n",
              "      <td>LP001005</td>\n",
              "      <td>Male</td>\n",
              "      <td>Yes</td>\n",
              "      <td>0</td>\n",
              "      <td>Graduate</td>\n",
              "      <td>Yes</td>\n",
              "      <td>Urban</td>\n",
              "      <td>Y</td>\n",
              "    </tr>\n",
              "    <tr>\n",
              "      <th>3</th>\n",
              "      <td>LP001006</td>\n",
              "      <td>Male</td>\n",
              "      <td>Yes</td>\n",
              "      <td>0</td>\n",
              "      <td>Not Graduate</td>\n",
              "      <td>No</td>\n",
              "      <td>Urban</td>\n",
              "      <td>Y</td>\n",
              "    </tr>\n",
              "    <tr>\n",
              "      <th>4</th>\n",
              "      <td>LP001008</td>\n",
              "      <td>Male</td>\n",
              "      <td>No</td>\n",
              "      <td>0</td>\n",
              "      <td>Graduate</td>\n",
              "      <td>No</td>\n",
              "      <td>Urban</td>\n",
              "      <td>Y</td>\n",
              "    </tr>\n",
              "    <tr>\n",
              "      <th>...</th>\n",
              "      <td>...</td>\n",
              "      <td>...</td>\n",
              "      <td>...</td>\n",
              "      <td>...</td>\n",
              "      <td>...</td>\n",
              "      <td>...</td>\n",
              "      <td>...</td>\n",
              "      <td>...</td>\n",
              "    </tr>\n",
              "    <tr>\n",
              "      <th>609</th>\n",
              "      <td>LP002978</td>\n",
              "      <td>Female</td>\n",
              "      <td>No</td>\n",
              "      <td>0</td>\n",
              "      <td>Graduate</td>\n",
              "      <td>No</td>\n",
              "      <td>Rural</td>\n",
              "      <td>Y</td>\n",
              "    </tr>\n",
              "    <tr>\n",
              "      <th>610</th>\n",
              "      <td>LP002979</td>\n",
              "      <td>Male</td>\n",
              "      <td>Yes</td>\n",
              "      <td>3+</td>\n",
              "      <td>Graduate</td>\n",
              "      <td>No</td>\n",
              "      <td>Rural</td>\n",
              "      <td>Y</td>\n",
              "    </tr>\n",
              "    <tr>\n",
              "      <th>611</th>\n",
              "      <td>LP002983</td>\n",
              "      <td>Male</td>\n",
              "      <td>Yes</td>\n",
              "      <td>1</td>\n",
              "      <td>Graduate</td>\n",
              "      <td>No</td>\n",
              "      <td>Urban</td>\n",
              "      <td>Y</td>\n",
              "    </tr>\n",
              "    <tr>\n",
              "      <th>612</th>\n",
              "      <td>LP002984</td>\n",
              "      <td>Male</td>\n",
              "      <td>Yes</td>\n",
              "      <td>2</td>\n",
              "      <td>Graduate</td>\n",
              "      <td>No</td>\n",
              "      <td>Urban</td>\n",
              "      <td>Y</td>\n",
              "    </tr>\n",
              "    <tr>\n",
              "      <th>613</th>\n",
              "      <td>LP002990</td>\n",
              "      <td>Female</td>\n",
              "      <td>No</td>\n",
              "      <td>0</td>\n",
              "      <td>Graduate</td>\n",
              "      <td>Yes</td>\n",
              "      <td>Semiurban</td>\n",
              "      <td>N</td>\n",
              "    </tr>\n",
              "  </tbody>\n",
              "</table>\n",
              "<p>614 rows × 8 columns</p>\n",
              "</div>"
            ],
            "text/plain": [
              "      Loan_ID  Gender Married  ... Self_Employed Property_Area Loan_Status\n",
              "0    LP001002    Male      No  ...            No         Urban           Y\n",
              "1    LP001003    Male     Yes  ...            No         Rural           N\n",
              "2    LP001005    Male     Yes  ...           Yes         Urban           Y\n",
              "3    LP001006    Male     Yes  ...            No         Urban           Y\n",
              "4    LP001008    Male      No  ...            No         Urban           Y\n",
              "..        ...     ...     ...  ...           ...           ...         ...\n",
              "609  LP002978  Female      No  ...            No         Rural           Y\n",
              "610  LP002979    Male     Yes  ...            No         Rural           Y\n",
              "611  LP002983    Male     Yes  ...            No         Urban           Y\n",
              "612  LP002984    Male     Yes  ...            No         Urban           Y\n",
              "613  LP002990  Female      No  ...           Yes     Semiurban           N\n",
              "\n",
              "[614 rows x 8 columns]"
            ]
          },
          "metadata": {
            "tags": []
          },
          "execution_count": 11
        }
      ]
    },
    {
      "cell_type": "code",
      "metadata": {
        "colab": {
          "base_uri": "https://localhost:8080/",
          "height": 411
        },
        "id": "YctVNEixRukd",
        "outputId": "cd56224e-aaca-4de3-b209-4c7c6890880e"
      },
      "source": [
        "#de meme pour la liste des donnees numeriques num_data\r\n",
        "num_data=pd.DataFrame(num_data).transpose()\r\n",
        "num_data"
      ],
      "execution_count": 12,
      "outputs": [
        {
          "output_type": "execute_result",
          "data": {
            "text/html": [
              "<div>\n",
              "<style scoped>\n",
              "    .dataframe tbody tr th:only-of-type {\n",
              "        vertical-align: middle;\n",
              "    }\n",
              "\n",
              "    .dataframe tbody tr th {\n",
              "        vertical-align: top;\n",
              "    }\n",
              "\n",
              "    .dataframe thead th {\n",
              "        text-align: right;\n",
              "    }\n",
              "</style>\n",
              "<table border=\"1\" class=\"dataframe\">\n",
              "  <thead>\n",
              "    <tr style=\"text-align: right;\">\n",
              "      <th></th>\n",
              "      <th>ApplicantIncome</th>\n",
              "      <th>CoapplicantIncome</th>\n",
              "      <th>LoanAmount</th>\n",
              "      <th>Loan_Amount_Term</th>\n",
              "      <th>Credit_History</th>\n",
              "    </tr>\n",
              "  </thead>\n",
              "  <tbody>\n",
              "    <tr>\n",
              "      <th>0</th>\n",
              "      <td>5849.0</td>\n",
              "      <td>0.0</td>\n",
              "      <td>NaN</td>\n",
              "      <td>360.0</td>\n",
              "      <td>1.0</td>\n",
              "    </tr>\n",
              "    <tr>\n",
              "      <th>1</th>\n",
              "      <td>4583.0</td>\n",
              "      <td>1508.0</td>\n",
              "      <td>128.0</td>\n",
              "      <td>360.0</td>\n",
              "      <td>1.0</td>\n",
              "    </tr>\n",
              "    <tr>\n",
              "      <th>2</th>\n",
              "      <td>3000.0</td>\n",
              "      <td>0.0</td>\n",
              "      <td>66.0</td>\n",
              "      <td>360.0</td>\n",
              "      <td>1.0</td>\n",
              "    </tr>\n",
              "    <tr>\n",
              "      <th>3</th>\n",
              "      <td>2583.0</td>\n",
              "      <td>2358.0</td>\n",
              "      <td>120.0</td>\n",
              "      <td>360.0</td>\n",
              "      <td>1.0</td>\n",
              "    </tr>\n",
              "    <tr>\n",
              "      <th>4</th>\n",
              "      <td>6000.0</td>\n",
              "      <td>0.0</td>\n",
              "      <td>141.0</td>\n",
              "      <td>360.0</td>\n",
              "      <td>1.0</td>\n",
              "    </tr>\n",
              "    <tr>\n",
              "      <th>...</th>\n",
              "      <td>...</td>\n",
              "      <td>...</td>\n",
              "      <td>...</td>\n",
              "      <td>...</td>\n",
              "      <td>...</td>\n",
              "    </tr>\n",
              "    <tr>\n",
              "      <th>609</th>\n",
              "      <td>2900.0</td>\n",
              "      <td>0.0</td>\n",
              "      <td>71.0</td>\n",
              "      <td>360.0</td>\n",
              "      <td>1.0</td>\n",
              "    </tr>\n",
              "    <tr>\n",
              "      <th>610</th>\n",
              "      <td>4106.0</td>\n",
              "      <td>0.0</td>\n",
              "      <td>40.0</td>\n",
              "      <td>180.0</td>\n",
              "      <td>1.0</td>\n",
              "    </tr>\n",
              "    <tr>\n",
              "      <th>611</th>\n",
              "      <td>8072.0</td>\n",
              "      <td>240.0</td>\n",
              "      <td>253.0</td>\n",
              "      <td>360.0</td>\n",
              "      <td>1.0</td>\n",
              "    </tr>\n",
              "    <tr>\n",
              "      <th>612</th>\n",
              "      <td>7583.0</td>\n",
              "      <td>0.0</td>\n",
              "      <td>187.0</td>\n",
              "      <td>360.0</td>\n",
              "      <td>1.0</td>\n",
              "    </tr>\n",
              "    <tr>\n",
              "      <th>613</th>\n",
              "      <td>4583.0</td>\n",
              "      <td>0.0</td>\n",
              "      <td>133.0</td>\n",
              "      <td>360.0</td>\n",
              "      <td>0.0</td>\n",
              "    </tr>\n",
              "  </tbody>\n",
              "</table>\n",
              "<p>614 rows × 5 columns</p>\n",
              "</div>"
            ],
            "text/plain": [
              "     ApplicantIncome  CoapplicantIncome  ...  Loan_Amount_Term  Credit_History\n",
              "0             5849.0                0.0  ...             360.0             1.0\n",
              "1             4583.0             1508.0  ...             360.0             1.0\n",
              "2             3000.0                0.0  ...             360.0             1.0\n",
              "3             2583.0             2358.0  ...             360.0             1.0\n",
              "4             6000.0                0.0  ...             360.0             1.0\n",
              "..               ...                ...  ...               ...             ...\n",
              "609           2900.0                0.0  ...             360.0             1.0\n",
              "610           4106.0                0.0  ...             180.0             1.0\n",
              "611           8072.0              240.0  ...             360.0             1.0\n",
              "612           7583.0                0.0  ...             360.0             1.0\n",
              "613           4583.0                0.0  ...             360.0             0.0\n",
              "\n",
              "[614 rows x 5 columns]"
            ]
          },
          "metadata": {
            "tags": []
          },
          "execution_count": 12
        }
      ]
    },
    {
      "cell_type": "markdown",
      "metadata": {
        "id": "mtXwK2ufS7uT"
      },
      "source": [
        "**Renseigner les valeurs manquantes:**"
      ]
    },
    {
      "cell_type": "markdown",
      "metadata": {
        "id": "XoMkAraa3FCW"
      },
      "source": [
        "**Remarque:** Au cas où la valeur manquante ne perturbe pas le modèle ou si on a assez de valeurs dans la BDD, on peut ne pas la renseigner"
      ]
    },
    {
      "cell_type": "markdown",
      "metadata": {
        "id": "CQBMMYodFmjw"
      },
      "source": [
        "\r\n",
        "Pour les valeurs catégoriques : on va remplacer la valeur manquante par la valeur qui se répète le plus (qui a la haute fréquence) exemple gender : on remarque que la catégorie 'Male' est plus fréquente que ‘female’ et donc à chaque fois qu’on trouve une valeur manquante dans le gendre on va la remplacer par 'Male'. Ceci va nous garantir un model non biaisé.\r\n"
      ]
    },
    {
      "cell_type": "code",
      "metadata": {
        "colab": {
          "base_uri": "https://localhost:8080/"
        },
        "id": "n7CLvSSKTHmk",
        "outputId": "169b089e-de27-4383-e4db-62c0dd8f414d"
      },
      "source": [
        "#Cas de valeurs categoriques\r\n",
        "cat_data=cat_data.apply(lambda x:x.fillna(x.value_counts().index[0]))#on a remplacer les NNa par la valeur la plus dominante pour chaque attribut\r\n",
        "cat_data.isnull().sum().any()"
      ],
      "execution_count": 13,
      "outputs": [
        {
          "output_type": "execute_result",
          "data": {
            "text/plain": [
              "False"
            ]
          },
          "metadata": {
            "tags": []
          },
          "execution_count": 13
        }
      ]
    },
    {
      "cell_type": "code",
      "metadata": {
        "colab": {
          "base_uri": "https://localhost:8080/"
        },
        "id": "JkDPDGWTfm19",
        "outputId": "34bcb767-3f7c-41e7-b062-a31d942c0a74"
      },
      "source": [
        "#explication: x.value_counts().index[0] \r\n",
        "#value_counts retourne une liste  contenant  le nombre d'occurence de chaque valeur (trie d'une maniere decroissante)\r\n",
        "# index[0] prend la valeur la plus frequente\r\n",
        "cat_data['Education'].value_counts()"
      ],
      "execution_count": 14,
      "outputs": [
        {
          "output_type": "execute_result",
          "data": {
            "text/plain": [
              "Graduate        480\n",
              "Not Graduate    134\n",
              "Name: Education, dtype: int64"
            ]
          },
          "metadata": {
            "tags": []
          },
          "execution_count": 14
        }
      ]
    },
    {
      "cell_type": "markdown",
      "metadata": {
        "id": "K8ciQBROHmiW"
      },
      "source": [
        "Pour les valeurs numériques : on va renseigner la valeur manquante qui se trouve dans un rang (n) comme similaire à la valeur ayant le rang (n-1)"
      ]
    },
    {
      "cell_type": "code",
      "metadata": {
        "colab": {
          "base_uri": "https://localhost:8080/"
        },
        "id": "8XJjoULwS_u8",
        "outputId": "0a0856fc-8ca6-4901-8bb7-f5472de17f51"
      },
      "source": [
        "#Cas de valeurs numeriques\r\n",
        "num_data.fillna(method='bfill',inplace=True)\r\n",
        "num_data.isnull().sum().any()#retourne un boolean qui verifie s'il reste emcore des valeurs manquantes"
      ],
      "execution_count": 15,
      "outputs": [
        {
          "output_type": "execute_result",
          "data": {
            "text/plain": [
              "False"
            ]
          },
          "metadata": {
            "tags": []
          },
          "execution_count": 15
        }
      ]
    },
    {
      "cell_type": "markdown",
      "metadata": {
        "id": "ponBf8BSkcvj"
      },
      "source": [
        "**bdill** : permet de remplacer directement les valeurs manquantes par la valeur précédente de la même colonne"
      ]
    },
    {
      "cell_type": "code",
      "metadata": {
        "colab": {
          "base_uri": "https://localhost:8080/",
          "height": 411
        },
        "id": "pZHrTRDQm8WO",
        "outputId": "8e23fae2-8247-4e1c-b955-3b9ff2920f17"
      },
      "source": [
        "num_data"
      ],
      "execution_count": 16,
      "outputs": [
        {
          "output_type": "execute_result",
          "data": {
            "text/html": [
              "<div>\n",
              "<style scoped>\n",
              "    .dataframe tbody tr th:only-of-type {\n",
              "        vertical-align: middle;\n",
              "    }\n",
              "\n",
              "    .dataframe tbody tr th {\n",
              "        vertical-align: top;\n",
              "    }\n",
              "\n",
              "    .dataframe thead th {\n",
              "        text-align: right;\n",
              "    }\n",
              "</style>\n",
              "<table border=\"1\" class=\"dataframe\">\n",
              "  <thead>\n",
              "    <tr style=\"text-align: right;\">\n",
              "      <th></th>\n",
              "      <th>ApplicantIncome</th>\n",
              "      <th>CoapplicantIncome</th>\n",
              "      <th>LoanAmount</th>\n",
              "      <th>Loan_Amount_Term</th>\n",
              "      <th>Credit_History</th>\n",
              "    </tr>\n",
              "  </thead>\n",
              "  <tbody>\n",
              "    <tr>\n",
              "      <th>0</th>\n",
              "      <td>5849.0</td>\n",
              "      <td>0.0</td>\n",
              "      <td>128.0</td>\n",
              "      <td>360.0</td>\n",
              "      <td>1.0</td>\n",
              "    </tr>\n",
              "    <tr>\n",
              "      <th>1</th>\n",
              "      <td>4583.0</td>\n",
              "      <td>1508.0</td>\n",
              "      <td>128.0</td>\n",
              "      <td>360.0</td>\n",
              "      <td>1.0</td>\n",
              "    </tr>\n",
              "    <tr>\n",
              "      <th>2</th>\n",
              "      <td>3000.0</td>\n",
              "      <td>0.0</td>\n",
              "      <td>66.0</td>\n",
              "      <td>360.0</td>\n",
              "      <td>1.0</td>\n",
              "    </tr>\n",
              "    <tr>\n",
              "      <th>3</th>\n",
              "      <td>2583.0</td>\n",
              "      <td>2358.0</td>\n",
              "      <td>120.0</td>\n",
              "      <td>360.0</td>\n",
              "      <td>1.0</td>\n",
              "    </tr>\n",
              "    <tr>\n",
              "      <th>4</th>\n",
              "      <td>6000.0</td>\n",
              "      <td>0.0</td>\n",
              "      <td>141.0</td>\n",
              "      <td>360.0</td>\n",
              "      <td>1.0</td>\n",
              "    </tr>\n",
              "    <tr>\n",
              "      <th>...</th>\n",
              "      <td>...</td>\n",
              "      <td>...</td>\n",
              "      <td>...</td>\n",
              "      <td>...</td>\n",
              "      <td>...</td>\n",
              "    </tr>\n",
              "    <tr>\n",
              "      <th>609</th>\n",
              "      <td>2900.0</td>\n",
              "      <td>0.0</td>\n",
              "      <td>71.0</td>\n",
              "      <td>360.0</td>\n",
              "      <td>1.0</td>\n",
              "    </tr>\n",
              "    <tr>\n",
              "      <th>610</th>\n",
              "      <td>4106.0</td>\n",
              "      <td>0.0</td>\n",
              "      <td>40.0</td>\n",
              "      <td>180.0</td>\n",
              "      <td>1.0</td>\n",
              "    </tr>\n",
              "    <tr>\n",
              "      <th>611</th>\n",
              "      <td>8072.0</td>\n",
              "      <td>240.0</td>\n",
              "      <td>253.0</td>\n",
              "      <td>360.0</td>\n",
              "      <td>1.0</td>\n",
              "    </tr>\n",
              "    <tr>\n",
              "      <th>612</th>\n",
              "      <td>7583.0</td>\n",
              "      <td>0.0</td>\n",
              "      <td>187.0</td>\n",
              "      <td>360.0</td>\n",
              "      <td>1.0</td>\n",
              "    </tr>\n",
              "    <tr>\n",
              "      <th>613</th>\n",
              "      <td>4583.0</td>\n",
              "      <td>0.0</td>\n",
              "      <td>133.0</td>\n",
              "      <td>360.0</td>\n",
              "      <td>0.0</td>\n",
              "    </tr>\n",
              "  </tbody>\n",
              "</table>\n",
              "<p>614 rows × 5 columns</p>\n",
              "</div>"
            ],
            "text/plain": [
              "     ApplicantIncome  CoapplicantIncome  ...  Loan_Amount_Term  Credit_History\n",
              "0             5849.0                0.0  ...             360.0             1.0\n",
              "1             4583.0             1508.0  ...             360.0             1.0\n",
              "2             3000.0                0.0  ...             360.0             1.0\n",
              "3             2583.0             2358.0  ...             360.0             1.0\n",
              "4             6000.0                0.0  ...             360.0             1.0\n",
              "..               ...                ...  ...               ...             ...\n",
              "609           2900.0                0.0  ...             360.0             1.0\n",
              "610           4106.0                0.0  ...             180.0             1.0\n",
              "611           8072.0              240.0  ...             360.0             1.0\n",
              "612           7583.0                0.0  ...             360.0             1.0\n",
              "613           4583.0                0.0  ...             360.0             0.0\n",
              "\n",
              "[614 rows x 5 columns]"
            ]
          },
          "metadata": {
            "tags": []
          },
          "execution_count": 16
        }
      ]
    },
    {
      "cell_type": "markdown",
      "metadata": {
        "id": "qIUyl844nB0p"
      },
      "source": [
        "La variable target '**Loan_Status**' est de type string contenant des 'Y/N', on veut les remplacer par 0 et \r\n",
        "1"
      ]
    },
    {
      "cell_type": "code",
      "metadata": {
        "colab": {
          "base_uri": "https://localhost:8080/"
        },
        "id": "_oHCb2IVm_j4",
        "outputId": "4b37c285-9a62-4150-87fb-768b53e987ea"
      },
      "source": [
        "#Transformer la colonne target\r\n",
        "target_value={'Y':1,'N':0}\r\n",
        "target=cat_data['Loan_Status']\r\n",
        "cat_data.drop('Loan_Status',axis=1,inplace=True)\r\n",
        "target=target.map(target_value)#mapage entre Y/1 N/0\r\n",
        "target"
      ],
      "execution_count": 17,
      "outputs": [
        {
          "output_type": "execute_result",
          "data": {
            "text/plain": [
              "0      1\n",
              "1      0\n",
              "2      1\n",
              "3      1\n",
              "4      1\n",
              "      ..\n",
              "609    1\n",
              "610    1\n",
              "611    1\n",
              "612    1\n",
              "613    0\n",
              "Name: Loan_Status, Length: 614, dtype: int64"
            ]
          },
          "metadata": {
            "tags": []
          },
          "execution_count": 17
        }
      ]
    },
    {
      "cell_type": "markdown",
      "metadata": {
        "id": "THc7tGehsPN_"
      },
      "source": [
        "On veut maintenant remplacer le reste des valeurs catégoriques par des 0 et des 1 d'une manière automatique. Pour se faire on aura besoin de LabelEncoder qui se trouve dans sklearn"
      ]
    },
    {
      "cell_type": "code",
      "metadata": {
        "colab": {
          "base_uri": "https://localhost:8080/",
          "height": 411
        },
        "id": "ORDhiJUDr_A1",
        "outputId": "50bf7b15-da2d-4969-8a70-e149c91c65d1"
      },
      "source": [
        "#instantiation de LabelEncoder\r\n",
        "le=LabelEncoder()\r\n",
        "for i in cat_data:\r\n",
        "  cat_data[i]=le.fit_transform(cat_data[i])\r\n",
        "cat_data"
      ],
      "execution_count": 18,
      "outputs": [
        {
          "output_type": "execute_result",
          "data": {
            "text/html": [
              "<div>\n",
              "<style scoped>\n",
              "    .dataframe tbody tr th:only-of-type {\n",
              "        vertical-align: middle;\n",
              "    }\n",
              "\n",
              "    .dataframe tbody tr th {\n",
              "        vertical-align: top;\n",
              "    }\n",
              "\n",
              "    .dataframe thead th {\n",
              "        text-align: right;\n",
              "    }\n",
              "</style>\n",
              "<table border=\"1\" class=\"dataframe\">\n",
              "  <thead>\n",
              "    <tr style=\"text-align: right;\">\n",
              "      <th></th>\n",
              "      <th>Loan_ID</th>\n",
              "      <th>Gender</th>\n",
              "      <th>Married</th>\n",
              "      <th>Dependents</th>\n",
              "      <th>Education</th>\n",
              "      <th>Self_Employed</th>\n",
              "      <th>Property_Area</th>\n",
              "    </tr>\n",
              "  </thead>\n",
              "  <tbody>\n",
              "    <tr>\n",
              "      <th>0</th>\n",
              "      <td>0</td>\n",
              "      <td>1</td>\n",
              "      <td>0</td>\n",
              "      <td>0</td>\n",
              "      <td>0</td>\n",
              "      <td>0</td>\n",
              "      <td>2</td>\n",
              "    </tr>\n",
              "    <tr>\n",
              "      <th>1</th>\n",
              "      <td>1</td>\n",
              "      <td>1</td>\n",
              "      <td>1</td>\n",
              "      <td>1</td>\n",
              "      <td>0</td>\n",
              "      <td>0</td>\n",
              "      <td>0</td>\n",
              "    </tr>\n",
              "    <tr>\n",
              "      <th>2</th>\n",
              "      <td>2</td>\n",
              "      <td>1</td>\n",
              "      <td>1</td>\n",
              "      <td>0</td>\n",
              "      <td>0</td>\n",
              "      <td>1</td>\n",
              "      <td>2</td>\n",
              "    </tr>\n",
              "    <tr>\n",
              "      <th>3</th>\n",
              "      <td>3</td>\n",
              "      <td>1</td>\n",
              "      <td>1</td>\n",
              "      <td>0</td>\n",
              "      <td>1</td>\n",
              "      <td>0</td>\n",
              "      <td>2</td>\n",
              "    </tr>\n",
              "    <tr>\n",
              "      <th>4</th>\n",
              "      <td>4</td>\n",
              "      <td>1</td>\n",
              "      <td>0</td>\n",
              "      <td>0</td>\n",
              "      <td>0</td>\n",
              "      <td>0</td>\n",
              "      <td>2</td>\n",
              "    </tr>\n",
              "    <tr>\n",
              "      <th>...</th>\n",
              "      <td>...</td>\n",
              "      <td>...</td>\n",
              "      <td>...</td>\n",
              "      <td>...</td>\n",
              "      <td>...</td>\n",
              "      <td>...</td>\n",
              "      <td>...</td>\n",
              "    </tr>\n",
              "    <tr>\n",
              "      <th>609</th>\n",
              "      <td>609</td>\n",
              "      <td>0</td>\n",
              "      <td>0</td>\n",
              "      <td>0</td>\n",
              "      <td>0</td>\n",
              "      <td>0</td>\n",
              "      <td>0</td>\n",
              "    </tr>\n",
              "    <tr>\n",
              "      <th>610</th>\n",
              "      <td>610</td>\n",
              "      <td>1</td>\n",
              "      <td>1</td>\n",
              "      <td>3</td>\n",
              "      <td>0</td>\n",
              "      <td>0</td>\n",
              "      <td>0</td>\n",
              "    </tr>\n",
              "    <tr>\n",
              "      <th>611</th>\n",
              "      <td>611</td>\n",
              "      <td>1</td>\n",
              "      <td>1</td>\n",
              "      <td>1</td>\n",
              "      <td>0</td>\n",
              "      <td>0</td>\n",
              "      <td>2</td>\n",
              "    </tr>\n",
              "    <tr>\n",
              "      <th>612</th>\n",
              "      <td>612</td>\n",
              "      <td>1</td>\n",
              "      <td>1</td>\n",
              "      <td>2</td>\n",
              "      <td>0</td>\n",
              "      <td>0</td>\n",
              "      <td>2</td>\n",
              "    </tr>\n",
              "    <tr>\n",
              "      <th>613</th>\n",
              "      <td>613</td>\n",
              "      <td>0</td>\n",
              "      <td>0</td>\n",
              "      <td>0</td>\n",
              "      <td>0</td>\n",
              "      <td>1</td>\n",
              "      <td>1</td>\n",
              "    </tr>\n",
              "  </tbody>\n",
              "</table>\n",
              "<p>614 rows × 7 columns</p>\n",
              "</div>"
            ],
            "text/plain": [
              "     Loan_ID  Gender  Married  ...  Education  Self_Employed  Property_Area\n",
              "0          0       1        0  ...          0              0              2\n",
              "1          1       1        1  ...          0              0              0\n",
              "2          2       1        1  ...          0              1              2\n",
              "3          3       1        1  ...          1              0              2\n",
              "4          4       1        0  ...          0              0              2\n",
              "..       ...     ...      ...  ...        ...            ...            ...\n",
              "609      609       0        0  ...          0              0              0\n",
              "610      610       1        1  ...          0              0              0\n",
              "611      611       1        1  ...          0              0              2\n",
              "612      612       1        1  ...          0              0              2\n",
              "613      613       0        0  ...          0              1              1\n",
              "\n",
              "[614 rows x 7 columns]"
            ]
          },
          "metadata": {
            "tags": []
          },
          "execution_count": 18
        }
      ]
    },
    {
      "cell_type": "markdown",
      "metadata": {
        "id": "mrEF9gnMt0km"
      },
      "source": [
        "La colonne LoanId doit être supprimé avant de commencer le traitement des données vue qu'elle n'a aucune utilité au niveau de notre model"
      ]
    },
    {
      "cell_type": "code",
      "metadata": {
        "id": "qEgMMlbPt_e1"
      },
      "source": [
        "#Supprimer loan_id\r\n",
        "cat_data.drop('Loan_ID',axis=1,inplace=True)"
      ],
      "execution_count": 19,
      "outputs": []
    },
    {
      "cell_type": "markdown",
      "metadata": {
        "id": "0JMOfsRHuRlW"
      },
      "source": [
        "Maintenant qu’on a préparé nos données numériques et catégoriques, on doit les rassembler dans une seule base de données."
      ]
    },
    {
      "cell_type": "code",
      "metadata": {
        "id": "KEFoYT3kud1u"
      },
      "source": [
        "#Concatener cat_data et num_data + specifier la trget\r\n",
        "X=pd.concat([cat_data,num_data],axis=1)\r\n",
        "Y=target"
      ],
      "execution_count": 20,
      "outputs": []
    },
    {
      "cell_type": "code",
      "metadata": {
        "colab": {
          "base_uri": "https://localhost:8080/",
          "height": 411
        },
        "id": "zbIWAXDCvXv3",
        "outputId": "8816b3a5-70ad-4de3-84a3-53f79b1d7d74"
      },
      "source": [
        "X"
      ],
      "execution_count": 21,
      "outputs": [
        {
          "output_type": "execute_result",
          "data": {
            "text/html": [
              "<div>\n",
              "<style scoped>\n",
              "    .dataframe tbody tr th:only-of-type {\n",
              "        vertical-align: middle;\n",
              "    }\n",
              "\n",
              "    .dataframe tbody tr th {\n",
              "        vertical-align: top;\n",
              "    }\n",
              "\n",
              "    .dataframe thead th {\n",
              "        text-align: right;\n",
              "    }\n",
              "</style>\n",
              "<table border=\"1\" class=\"dataframe\">\n",
              "  <thead>\n",
              "    <tr style=\"text-align: right;\">\n",
              "      <th></th>\n",
              "      <th>Gender</th>\n",
              "      <th>Married</th>\n",
              "      <th>Dependents</th>\n",
              "      <th>Education</th>\n",
              "      <th>Self_Employed</th>\n",
              "      <th>Property_Area</th>\n",
              "      <th>ApplicantIncome</th>\n",
              "      <th>CoapplicantIncome</th>\n",
              "      <th>LoanAmount</th>\n",
              "      <th>Loan_Amount_Term</th>\n",
              "      <th>Credit_History</th>\n",
              "    </tr>\n",
              "  </thead>\n",
              "  <tbody>\n",
              "    <tr>\n",
              "      <th>0</th>\n",
              "      <td>1</td>\n",
              "      <td>0</td>\n",
              "      <td>0</td>\n",
              "      <td>0</td>\n",
              "      <td>0</td>\n",
              "      <td>2</td>\n",
              "      <td>5849.0</td>\n",
              "      <td>0.0</td>\n",
              "      <td>128.0</td>\n",
              "      <td>360.0</td>\n",
              "      <td>1.0</td>\n",
              "    </tr>\n",
              "    <tr>\n",
              "      <th>1</th>\n",
              "      <td>1</td>\n",
              "      <td>1</td>\n",
              "      <td>1</td>\n",
              "      <td>0</td>\n",
              "      <td>0</td>\n",
              "      <td>0</td>\n",
              "      <td>4583.0</td>\n",
              "      <td>1508.0</td>\n",
              "      <td>128.0</td>\n",
              "      <td>360.0</td>\n",
              "      <td>1.0</td>\n",
              "    </tr>\n",
              "    <tr>\n",
              "      <th>2</th>\n",
              "      <td>1</td>\n",
              "      <td>1</td>\n",
              "      <td>0</td>\n",
              "      <td>0</td>\n",
              "      <td>1</td>\n",
              "      <td>2</td>\n",
              "      <td>3000.0</td>\n",
              "      <td>0.0</td>\n",
              "      <td>66.0</td>\n",
              "      <td>360.0</td>\n",
              "      <td>1.0</td>\n",
              "    </tr>\n",
              "    <tr>\n",
              "      <th>3</th>\n",
              "      <td>1</td>\n",
              "      <td>1</td>\n",
              "      <td>0</td>\n",
              "      <td>1</td>\n",
              "      <td>0</td>\n",
              "      <td>2</td>\n",
              "      <td>2583.0</td>\n",
              "      <td>2358.0</td>\n",
              "      <td>120.0</td>\n",
              "      <td>360.0</td>\n",
              "      <td>1.0</td>\n",
              "    </tr>\n",
              "    <tr>\n",
              "      <th>4</th>\n",
              "      <td>1</td>\n",
              "      <td>0</td>\n",
              "      <td>0</td>\n",
              "      <td>0</td>\n",
              "      <td>0</td>\n",
              "      <td>2</td>\n",
              "      <td>6000.0</td>\n",
              "      <td>0.0</td>\n",
              "      <td>141.0</td>\n",
              "      <td>360.0</td>\n",
              "      <td>1.0</td>\n",
              "    </tr>\n",
              "    <tr>\n",
              "      <th>...</th>\n",
              "      <td>...</td>\n",
              "      <td>...</td>\n",
              "      <td>...</td>\n",
              "      <td>...</td>\n",
              "      <td>...</td>\n",
              "      <td>...</td>\n",
              "      <td>...</td>\n",
              "      <td>...</td>\n",
              "      <td>...</td>\n",
              "      <td>...</td>\n",
              "      <td>...</td>\n",
              "    </tr>\n",
              "    <tr>\n",
              "      <th>609</th>\n",
              "      <td>0</td>\n",
              "      <td>0</td>\n",
              "      <td>0</td>\n",
              "      <td>0</td>\n",
              "      <td>0</td>\n",
              "      <td>0</td>\n",
              "      <td>2900.0</td>\n",
              "      <td>0.0</td>\n",
              "      <td>71.0</td>\n",
              "      <td>360.0</td>\n",
              "      <td>1.0</td>\n",
              "    </tr>\n",
              "    <tr>\n",
              "      <th>610</th>\n",
              "      <td>1</td>\n",
              "      <td>1</td>\n",
              "      <td>3</td>\n",
              "      <td>0</td>\n",
              "      <td>0</td>\n",
              "      <td>0</td>\n",
              "      <td>4106.0</td>\n",
              "      <td>0.0</td>\n",
              "      <td>40.0</td>\n",
              "      <td>180.0</td>\n",
              "      <td>1.0</td>\n",
              "    </tr>\n",
              "    <tr>\n",
              "      <th>611</th>\n",
              "      <td>1</td>\n",
              "      <td>1</td>\n",
              "      <td>1</td>\n",
              "      <td>0</td>\n",
              "      <td>0</td>\n",
              "      <td>2</td>\n",
              "      <td>8072.0</td>\n",
              "      <td>240.0</td>\n",
              "      <td>253.0</td>\n",
              "      <td>360.0</td>\n",
              "      <td>1.0</td>\n",
              "    </tr>\n",
              "    <tr>\n",
              "      <th>612</th>\n",
              "      <td>1</td>\n",
              "      <td>1</td>\n",
              "      <td>2</td>\n",
              "      <td>0</td>\n",
              "      <td>0</td>\n",
              "      <td>2</td>\n",
              "      <td>7583.0</td>\n",
              "      <td>0.0</td>\n",
              "      <td>187.0</td>\n",
              "      <td>360.0</td>\n",
              "      <td>1.0</td>\n",
              "    </tr>\n",
              "    <tr>\n",
              "      <th>613</th>\n",
              "      <td>0</td>\n",
              "      <td>0</td>\n",
              "      <td>0</td>\n",
              "      <td>0</td>\n",
              "      <td>1</td>\n",
              "      <td>1</td>\n",
              "      <td>4583.0</td>\n",
              "      <td>0.0</td>\n",
              "      <td>133.0</td>\n",
              "      <td>360.0</td>\n",
              "      <td>0.0</td>\n",
              "    </tr>\n",
              "  </tbody>\n",
              "</table>\n",
              "<p>614 rows × 11 columns</p>\n",
              "</div>"
            ],
            "text/plain": [
              "     Gender  Married  Dependents  ...  LoanAmount  Loan_Amount_Term  Credit_History\n",
              "0         1        0           0  ...       128.0             360.0             1.0\n",
              "1         1        1           1  ...       128.0             360.0             1.0\n",
              "2         1        1           0  ...        66.0             360.0             1.0\n",
              "3         1        1           0  ...       120.0             360.0             1.0\n",
              "4         1        0           0  ...       141.0             360.0             1.0\n",
              "..      ...      ...         ...  ...         ...               ...             ...\n",
              "609       0        0           0  ...        71.0             360.0             1.0\n",
              "610       1        1           3  ...        40.0             180.0             1.0\n",
              "611       1        1           1  ...       253.0             360.0             1.0\n",
              "612       1        1           2  ...       187.0             360.0             1.0\n",
              "613       0        0           0  ...       133.0             360.0             0.0\n",
              "\n",
              "[614 rows x 11 columns]"
            ]
          },
          "metadata": {
            "tags": []
          },
          "execution_count": 21
        }
      ]
    },
    {
      "cell_type": "markdown",
      "metadata": {
        "id": "gZsV_5EqBrFU"
      },
      "source": [
        "` Etape2` :  **Analyse Exploratoire (EDA)**"
      ]
    },
    {
      "cell_type": "code",
      "metadata": {
        "colab": {
          "base_uri": "https://localhost:8080/"
        },
        "id": "M-qldJN9CE3q",
        "outputId": "0aa073e6-e90b-4cf1-81e3-4ec4b61fe0f6"
      },
      "source": [
        "#Varibale target \r\n",
        "target.value_counts()"
      ],
      "execution_count": 22,
      "outputs": [
        {
          "output_type": "execute_result",
          "data": {
            "text/plain": [
              "1    422\n",
              "0    192\n",
              "Name: Loan_Status, dtype: int64"
            ]
          },
          "metadata": {
            "tags": []
          },
          "execution_count": 22
        }
      ]
    },
    {
      "cell_type": "code",
      "metadata": {
        "id": "L4grlIhWSJR8"
      },
      "source": [
        "#La BDD utilisee pour l'EDA\r\n",
        "df=pd.concat([cat_data,num_data,target],axis=1)"
      ],
      "execution_count": 24,
      "outputs": []
    },
    {
      "cell_type": "code",
      "metadata": {
        "colab": {
          "base_uri": "https://localhost:8080/",
          "height": 480
        },
        "id": "hqpRV_zMCmKj",
        "outputId": "82dd77d3-d031-4700-c568-1e1a919c88ee"
      },
      "source": [
        "pl.figure(figsize=(8,6))\r\n",
        "sns.countplot(target)\r\n",
        "yes=target.value_counts()[0]/len(target)\r\n",
        "no=target.value_counts()[1]/len(target)\r\n",
        "print(f'Le pourcentage des credits accordes est:{yes}')\r\n",
        "print(f'Le pourcentage des credits non accordes est:{no}')"
      ],
      "execution_count": 23,
      "outputs": [
        {
          "output_type": "stream",
          "text": [
            "Le pourcentage des credits accordes est:0.3127035830618892\n",
            "Le pourcentage des credits non accordes est:0.6872964169381107\n"
          ],
          "name": "stdout"
        },
        {
          "output_type": "stream",
          "text": [
            "/usr/local/lib/python3.6/dist-packages/seaborn/_decorators.py:43: FutureWarning: Pass the following variable as a keyword arg: x. From version 0.12, the only valid positional argument will be `data`, and passing other arguments without an explicit keyword will result in an error or misinterpretation.\n",
            "  FutureWarning\n"
          ],
          "name": "stderr"
        },
        {
          "output_type": "display_data",
          "data": {
            "image/png": "[encoded data removed]",
            "text/plain": [
              "<Figure size 576x432 with 1 Axes>"
            ]
          },
          "metadata": {
            "tags": [],
            "needs_background": "light"
          }
        }
      ]
    },
    {
      "cell_type": "markdown",
      "metadata": {
        "id": "4_0nDdJ4R3XJ"
      },
      "source": [
        "On va étudier l'impact de chaque attribut sur l'accord de crédit (On cherche les variables significatives pour notre modèle)"
      ]
    },
    {
      "cell_type": "code",
      "metadata": {
        "colab": {
          "base_uri": "https://localhost:8080/",
          "height": 349
        },
        "id": "8BaG20sFSBC-",
        "outputId": "ffd1374b-006b-4f8b-c4c5-f7803557aa45"
      },
      "source": [
        "#Credit history\r\n",
        "grid=sns.FacetGrid(df,col='Loan_Status',size=3.2,aspect=1.6)\r\n",
        "grid.map(sns.countplot,'Credit_History')"
      ],
      "execution_count": 26,
      "outputs": [
        {
          "output_type": "stream",
          "text": [
            "/usr/local/lib/python3.6/dist-packages/seaborn/axisgrid.py:316: UserWarning: The `size` parameter has been renamed to `height`; please update your code.\n",
            "  warnings.warn(msg, UserWarning)\n",
            "/usr/local/lib/python3.6/dist-packages/seaborn/axisgrid.py:645: UserWarning: Using the countplot function without specifying `order` is likely to produce an incorrect plot.\n",
            "  warnings.warn(warning)\n"
          ],
          "name": "stderr"
        },
        {
          "output_type": "execute_result",
          "data": {
            "text/plain": [
              "<seaborn.axisgrid.FacetGrid at 0x7fd7abad8b00>"
            ]
          },
          "metadata": {
            "tags": []
          },
          "execution_count": 26
        },
        {
          "output_type": "display_data",
          "data": {
            "image/png": "[encoded data removed]",
            "text/plain": [
              "<Figure size 737.28x230.4 with 2 Axes>"
            ]
          },
          "metadata": {
            "tags": [],
            "needs_background": "light"
          }
        }
      ]
    },
    {
      "cell_type": "markdown",
      "metadata": {
        "id": "wdhztKpIS3UV"
      },
      "source": [
        "On essaye de voir la relation entre le fait d'accorder un crédit et l'historique des crédits du client. On remarque d'après la 2eme figure que si le client avait eu déjà un crédit, la chance de lui accorder un autre augmente."
      ]
    },
    {
      "cell_type": "code",
      "metadata": {
        "colab": {
          "base_uri": "https://localhost:8080/",
          "height": 349
        },
        "id": "j7utPAcLT0VS",
        "outputId": "12c64185-5e24-4773-9f80-4b54718445e6"
      },
      "source": [
        "#Gender\r\n",
        "grid=sns.FacetGrid(df,col='Loan_Status',size=3.2,aspect=1.6)\r\n",
        "grid.map(sns.countplot,'Gender')"
      ],
      "execution_count": 27,
      "outputs": [
        {
          "output_type": "stream",
          "text": [
            "/usr/local/lib/python3.6/dist-packages/seaborn/axisgrid.py:316: UserWarning: The `size` parameter has been renamed to `height`; please update your code.\n",
            "  warnings.warn(msg, UserWarning)\n",
            "/usr/local/lib/python3.6/dist-packages/seaborn/axisgrid.py:645: UserWarning: Using the countplot function without specifying `order` is likely to produce an incorrect plot.\n",
            "  warnings.warn(warning)\n"
          ],
          "name": "stderr"
        },
        {
          "output_type": "execute_result",
          "data": {
            "text/plain": [
              "<seaborn.axisgrid.FacetGrid at 0x7fd7a915b198>"
            ]
          },
          "metadata": {
            "tags": []
          },
          "execution_count": 27
        },
        {
          "output_type": "display_data",
          "data": {
            "image/png": "[encoded data removed]",
            "text/plain": [
              "<Figure size 737.28x230.4 with 2 Axes>"
            ]
          },
          "metadata": {
            "tags": [],
            "needs_background": "light"
          }
        }
      ]
    },
    {
      "cell_type": "markdown",
      "metadata": {
        "id": "ICdKj0e9U5Se"
      },
      "source": [
        "Quant à la variable Gender on remarque que les hommes demandent plus de crédits par rapport aux femmes, et donc ils ont plus de chance d'accepter leurs demandes."
      ]
    },
    {
      "cell_type": "code",
      "metadata": {
        "colab": {
          "base_uri": "https://localhost:8080/",
          "height": 334
        },
        "id": "128BqXgHVtR0",
        "outputId": "27edca21-2e7e-46f2-a257-ddfb4863d965"
      },
      "source": [
        "#Married\r\n",
        "grid=sns.FacetGrid(df,col='Loan_Status',size=3.0,aspect=1.6)\r\n",
        "grid.map(sns.countplot,'Married')"
      ],
      "execution_count": 33,
      "outputs": [
        {
          "output_type": "stream",
          "text": [
            "/usr/local/lib/python3.6/dist-packages/seaborn/axisgrid.py:316: UserWarning: The `size` parameter has been renamed to `height`; please update your code.\n",
            "  warnings.warn(msg, UserWarning)\n",
            "/usr/local/lib/python3.6/dist-packages/seaborn/axisgrid.py:645: UserWarning: Using the countplot function without specifying `order` is likely to produce an incorrect plot.\n",
            "  warnings.warn(warning)\n"
          ],
          "name": "stderr"
        },
        {
          "output_type": "execute_result",
          "data": {
            "text/plain": [
              "<seaborn.axisgrid.FacetGrid at 0x7fd7a8f5a198>"
            ]
          },
          "metadata": {
            "tags": []
          },
          "execution_count": 33
        },
        {
          "output_type": "display_data",
          "data": {
            "image/png": "[encoded data removed]",
            "text/plain": [
              "<Figure size 691.2x216 with 2 Axes>"
            ]
          },
          "metadata": {
            "tags": [],
            "needs_background": "light"
          }
        }
      ]
    },
    {
      "cell_type": "markdown",
      "metadata": {
        "id": "yeTdwFu6WR56"
      },
      "source": [
        "On remarque que le pourcentage des gens mariés et le pourcentage des célibataires est à peu près le même au cas où Loan_Status=0, et donc la variable Married n'est pas significative pour la variable cible (L'écart est relativement faible)."
      ]
    },
    {
      "cell_type": "code",
      "metadata": {
        "colab": {
          "base_uri": "https://localhost:8080/",
          "height": 334
        },
        "id": "wPZNgiTVWMjG",
        "outputId": "28376cc4-119f-40d6-b9f3-d2d3fb64f5c4"
      },
      "source": [
        "#Education\r\n",
        "grid=sns.FacetGrid(df,col='Loan_Status',size=3.0,aspect=1.6)\r\n",
        "grid.map(sns.countplot,'Education')"
      ],
      "execution_count": 34,
      "outputs": [
        {
          "output_type": "stream",
          "text": [
            "/usr/local/lib/python3.6/dist-packages/seaborn/axisgrid.py:316: UserWarning: The `size` parameter has been renamed to `height`; please update your code.\n",
            "  warnings.warn(msg, UserWarning)\n",
            "/usr/local/lib/python3.6/dist-packages/seaborn/axisgrid.py:645: UserWarning: Using the countplot function without specifying `order` is likely to produce an incorrect plot.\n",
            "  warnings.warn(warning)\n"
          ],
          "name": "stderr"
        },
        {
          "output_type": "execute_result",
          "data": {
            "text/plain": [
              "<seaborn.axisgrid.FacetGrid at 0x7fd7a8d17710>"
            ]
          },
          "metadata": {
            "tags": []
          },
          "execution_count": 34
        },
        {
          "output_type": "display_data",
          "data": {
            "image/png": "[encoded data removed]",
            "text/plain": [
              "<Figure size 691.2x216 with 2 Axes>"
            ]
          },
          "metadata": {
            "tags": [],
            "needs_background": "light"
          }
        }
      ]
    },
    {
      "cell_type": "markdown",
      "metadata": {
        "id": "srkXXxGNYNzv"
      },
      "source": [
        "Les gens ayant effectué leurs études ont plus de chance d'avoir un crédit."
      ]
    },
    {
      "cell_type": "code",
      "metadata": {
        "colab": {
          "base_uri": "https://localhost:8080/",
          "height": 283
        },
        "id": "t4WL75oZY9Tl",
        "outputId": "94b8b1d6-fcb0-4d92-e47c-8df97cf2e19f"
      },
      "source": [
        "#La varibale revenue du demandeur est de type numerique et donc pour l'afficher on va utiliser scatter\r\n",
        "pl.scatter(df['ApplicantIncome'],df['Loan_Status'])\r\n"
      ],
      "execution_count": 36,
      "outputs": [
        {
          "output_type": "execute_result",
          "data": {
            "text/plain": [
              "<matplotlib.collections.PathCollection at 0x7fd7a8bbd668>"
            ]
          },
          "metadata": {
            "tags": []
          },
          "execution_count": 36
        },
        {
          "output_type": "display_data",
          "data": {
            "image/png": "[encoded data removed]",
            "text/plain": [
              "<Figure size 432x288 with 1 Axes>"
            ]
          },
          "metadata": {
            "tags": [],
            "needs_background": "light"
          }
        }
      ]
    },
    {
      "cell_type": "markdown",
      "metadata": {
        "id": "QjZ_KapKaQ6Z"
      },
      "source": [
        "1= crédits acceptes\r\n",
        "0= crédits non accordees \r\n",
        "On remarque qu'il n'y a pas de différence significative entre les deux barres et donc la variable ApplicationIncome n'aura pas d'impact sur le modèle\r\n"
      ]
    },
    {
      "cell_type": "code",
      "metadata": {
        "colab": {
          "base_uri": "https://localhost:8080/",
          "height": 283
        },
        "id": "Wy6_uXd9bTec",
        "outputId": "454d79bd-cd73-4d31-a640-c968d6481474"
      },
      "source": [
        "pl.scatter(df['CoapplicantIncome'],df['Loan_Status'])"
      ],
      "execution_count": 37,
      "outputs": [
        {
          "output_type": "execute_result",
          "data": {
            "text/plain": [
              "<matplotlib.collections.PathCollection at 0x7fd7a8b28860>"
            ]
          },
          "metadata": {
            "tags": []
          },
          "execution_count": 37
        },
        {
          "output_type": "display_data",
          "data": {
            "image/png": "[encoded data removed]",
            "text/plain": [
              "<Figure size 432x288 with 1 Axes>"
            ]
          },
          "metadata": {
            "tags": [],
            "needs_background": "light"
          }
        }
      ]
    },
    {
      "cell_type": "code",
      "metadata": {
        "colab": {
          "base_uri": "https://localhost:8080/",
          "height": 139
        },
        "id": "wQHHoGyumTRl",
        "outputId": "1998fca4-0af2-4a8f-d40a-f00478d669f1"
      },
      "source": [
        "df.groupby('Loan_Status').median()"
      ],
      "execution_count": 38,
      "outputs": [
        {
          "output_type": "execute_result",
          "data": {
            "text/html": [
              "<div>\n",
              "<style scoped>\n",
              "    .dataframe tbody tr th:only-of-type {\n",
              "        vertical-align: middle;\n",
              "    }\n",
              "\n",
              "    .dataframe tbody tr th {\n",
              "        vertical-align: top;\n",
              "    }\n",
              "\n",
              "    .dataframe thead th {\n",
              "        text-align: right;\n",
              "    }\n",
              "</style>\n",
              "<table border=\"1\" class=\"dataframe\">\n",
              "  <thead>\n",
              "    <tr style=\"text-align: right;\">\n",
              "      <th></th>\n",
              "      <th>Gender</th>\n",
              "      <th>Married</th>\n",
              "      <th>Dependents</th>\n",
              "      <th>Education</th>\n",
              "      <th>Self_Employed</th>\n",
              "      <th>Property_Area</th>\n",
              "      <th>ApplicantIncome</th>\n",
              "      <th>CoapplicantIncome</th>\n",
              "      <th>LoanAmount</th>\n",
              "      <th>Loan_Amount_Term</th>\n",
              "      <th>Credit_History</th>\n",
              "    </tr>\n",
              "    <tr>\n",
              "      <th>Loan_Status</th>\n",
              "      <th></th>\n",
              "      <th></th>\n",
              "      <th></th>\n",
              "      <th></th>\n",
              "      <th></th>\n",
              "      <th></th>\n",
              "      <th></th>\n",
              "      <th></th>\n",
              "      <th></th>\n",
              "      <th></th>\n",
              "      <th></th>\n",
              "    </tr>\n",
              "  </thead>\n",
              "  <tbody>\n",
              "    <tr>\n",
              "      <th>0</th>\n",
              "      <td>1</td>\n",
              "      <td>1</td>\n",
              "      <td>0</td>\n",
              "      <td>0</td>\n",
              "      <td>0</td>\n",
              "      <td>1</td>\n",
              "      <td>3833.5</td>\n",
              "      <td>268.0</td>\n",
              "      <td>132.5</td>\n",
              "      <td>360.0</td>\n",
              "      <td>1.0</td>\n",
              "    </tr>\n",
              "    <tr>\n",
              "      <th>1</th>\n",
              "      <td>1</td>\n",
              "      <td>1</td>\n",
              "      <td>0</td>\n",
              "      <td>0</td>\n",
              "      <td>0</td>\n",
              "      <td>1</td>\n",
              "      <td>3812.5</td>\n",
              "      <td>1239.5</td>\n",
              "      <td>127.5</td>\n",
              "      <td>360.0</td>\n",
              "      <td>1.0</td>\n",
              "    </tr>\n",
              "  </tbody>\n",
              "</table>\n",
              "</div>"
            ],
            "text/plain": [
              "             Gender  Married  ...  Loan_Amount_Term  Credit_History\n",
              "Loan_Status                   ...                                  \n",
              "0                 1        1  ...             360.0             1.0\n",
              "1                 1        1  ...             360.0             1.0\n",
              "\n",
              "[2 rows x 11 columns]"
            ]
          },
          "metadata": {
            "tags": []
          },
          "execution_count": 38
        }
      ]
    },
    {
      "cell_type": "markdown",
      "metadata": {
        "id": "gYyYh4f-mc4U"
      },
      "source": [
        "Cette instruction permet de calculer la médiane pour chaque variable (quantitative).On peut comparer la medianne pour savoir si l'attribut est hautement significative pour notre modèle ou non.\r\n"
      ]
    },
    {
      "cell_type": "markdown",
      "metadata": {
        "id": "J0oX6Nd4nBDL"
      },
      "source": [
        "**Exemple** : CoapplicantIncome le credit est refusé si le revenue du conjoint \r\n",
        "est bas, alors qu'il est accepté lorsqu'il est haut "
      ]
    },
    {
      "cell_type": "markdown",
      "metadata": {
        "id": "OTKFPGh20LRt"
      },
      "source": [
        "`Etape3:` **Implémentation du Modèle** "
      ]
    },
    {
      "cell_type": "markdown",
      "metadata": {
        "id": "EGpAiz4P2l43"
      },
      "source": [
        "Tout d'abord, on doit diviser notre base de donnees a une partie de training et autre de test."
      ]
    },
    {
      "cell_type": "code",
      "metadata": {
        "colab": {
          "base_uri": "https://localhost:8080/"
        },
        "id": "kCidZDcqvII4",
        "outputId": "0db7b5e8-d666-4923-fc5b-fea7a24118dc"
      },
      "source": [
        "#Divser la BDD\r\n",
        "sss=StratifiedShuffleSplit(n_splits=1,test_size=0.2,random_state=42)#Initialisation\r\n",
        "#cette boucle va faire la devision\r\n",
        "for train,test in sss.split(X,Y):\r\n",
        "  X_train,X_test=X.iloc[train],X.iloc[test]\r\n",
        "  y_train,y_test=Y.iloc[train],Y.iloc[test]\r\n",
        "print('X_train taille:',X_train.shape)\r\n",
        "print('X_test taille:',X_test.shape)\r\n",
        "print('y_train taille:',y_train.shape)\r\n",
        "print('y_test taille:',y_test.shape)"
      ],
      "execution_count": 43,
      "outputs": [
        {
          "output_type": "stream",
          "text": [
            "X_train taille: (491, 11)\n",
            "X_test taille: (123, 11)\n",
            "y_train taille: (491,)\n",
            "y_test taille: (123,)\n"
          ],
          "name": "stdout"
        }
      ]
    },
    {
      "cell_type": "markdown",
      "metadata": {
        "id": "zCcPpexe94fS"
      },
      "source": [
        "On va créer 3 modèles : Logistic Regression, KNN et Decision Tree, puis on va choisir celui ayant la meilleure accuracy(Métrique pour déterminer  la précision de notre modèle)"
      ]
    },
    {
      "cell_type": "code",
      "metadata": {
        "colab": {
          "base_uri": "https://localhost:8080/"
        },
        "id": "F1ehpBnm91e-",
        "outputId": "8ae9d31a-8687-455a-96d7-627cbcfb9a75"
      },
      "source": [
        "#Creation du modele\r\n",
        "#On va creer un dictionnaire contennat tous nos modeles\r\n",
        "models={\r\n",
        "     'LogisticRegression':LogisticRegression(random_state=42),\r\n",
        "     ' KNeighborsClassifier':KNeighborsClassifier(),\r\n",
        "     'DecisionTreeClassifier':DecisionTreeClassifier(max_depth=1,random_state=42)\r\n",
        "     }\r\n",
        "#Definition de la fonction de precision\r\n",
        "def accu(y_true,y_pred,retu=False):\r\n",
        "  acc=accuracy_score(y_true,y_pred)\r\n",
        "  if retu:\r\n",
        "    return acc\r\n",
        "  else:\r\n",
        "    print(f'La precision du modele est :{acc}')\r\n",
        "#Definition de la fonction d'application des 3 modeles\r\n",
        "def train_test_eval(models,X_train,y_train,X_test,y_test):\r\n",
        "  for name,model in models.items():\r\n",
        "    print(name,':')\r\n",
        "    model.fit(X_train,y_train)\r\n",
        "    accu(y_test,model.predict(X_test))\r\n",
        "    print('-'*30)\r\n",
        "train_test_eval(models,X_train,y_train,X_test,y_test)"
      ],
      "execution_count": 49,
      "outputs": [
        {
          "output_type": "stream",
          "text": [
            "LogisticRegression :\n",
            "La precision du modele est :0.8536585365853658\n",
            "------------------------------\n",
            " KNeighborsClassifier :\n",
            "La precision du modele est :0.6504065040650406\n",
            "------------------------------\n",
            "DecisionTreeClassifier :\n",
            "La precision du modele est :0.8455284552845529\n",
            "------------------------------\n"
          ],
          "name": "stdout"
        },
        {
          "output_type": "stream",
          "text": [
            "/usr/local/lib/python3.6/dist-packages/sklearn/linear_model/_logistic.py:940: ConvergenceWarning: lbfgs failed to converge (status=1):\n",
            "STOP: TOTAL NO. of ITERATIONS REACHED LIMIT.\n",
            "\n",
            "Increase the number of iterations (max_iter) or scale the data as shown in:\n",
            "    https://scikit-learn.org/stable/modules/preprocessing.html\n",
            "Please also refer to the documentation for alternative solver options:\n",
            "    https://scikit-learn.org/stable/modules/linear_model.html#logistic-regression\n",
            "  extra_warning_msg=_LOGISTIC_SOLVER_CONVERGENCE_MSG)\n"
          ],
          "name": "stderr"
        }
      ]
    },
    {
      "cell_type": "markdown",
      "metadata": {
        "id": "owdrW-y1FLR5"
      },
      "source": [
        "Selon les performances des 3 modèles on remarque que la LogisticRegression représente le modèle le plus précis. (C'est lui qui a la plus haute accuracy)"
      ]
    },
    {
      "cell_type": "markdown",
      "metadata": {
        "id": "Ga_Xhn3mHnEa"
      },
      "source": [
        "On va créer une nouvelle base de données qui contient juste les variables significatives et on va appliquer le modèle LogiscticRegression."
      ]
    },
    {
      "cell_type": "code",
      "metadata": {
        "id": "Op3reDBOGixf"
      },
      "source": [
        "#Creation de la nouvelle BDD\r\n",
        "X_2=X[['Credit_History','Gender','Married','CoapplicantIncome','ApplicantIncome']]"
      ],
      "execution_count": 50,
      "outputs": []
    },
    {
      "cell_type": "code",
      "metadata": {
        "colab": {
          "base_uri": "https://localhost:8080/"
        },
        "id": "SLlB1ehbINFq",
        "outputId": "4b5e4161-14c5-44c5-999b-cef09f95bb6d"
      },
      "source": [
        "#Divser la nouvelle BDD\r\n",
        "sss=StratifiedShuffleSplit(n_splits=1,test_size=0.2,random_state=42)#Initialisation\r\n",
        "#cette boucle va faire la devision\r\n",
        "for train,test in sss.split(X_2,Y):\r\n",
        "  X_train,X_test=X_2.iloc[train],X_2.iloc[test]\r\n",
        "  y_train,y_test=Y.iloc[train],Y.iloc[test]\r\n",
        "print('X_train taille:',X_train.shape)\r\n",
        "print('X_test taille:',X_test.shape)\r\n",
        "print('y_train taille:',y_train.shape)\r\n",
        "print('y_test taille:',y_test.shape)"
      ],
      "execution_count": 51,
      "outputs": [
        {
          "output_type": "stream",
          "text": [
            "X_train taille: (491, 5)\n",
            "X_test taille: (123, 5)\n",
            "y_train taille: (491,)\n",
            "y_test taille: (123,)\n"
          ],
          "name": "stdout"
        }
      ]
    },
    {
      "cell_type": "markdown",
      "metadata": {
        "id": "Rpjpv3xIItAh"
      },
      "source": [
        "`X_train taille: (491, 5)`: 5 indique le nombre de colonnes, 419 est le nombre d'enregistrements"
      ]
    },
    {
      "cell_type": "code",
      "metadata": {
        "colab": {
          "base_uri": "https://localhost:8080/"
        },
        "id": "HSgOtfwjJBKH",
        "outputId": "d34fe299-3553-4d28-cd39-521dcbcb3e54"
      },
      "source": [
        "train_test_eval(models,X_train,y_train,X_test,y_test)"
      ],
      "execution_count": 52,
      "outputs": [
        {
          "output_type": "stream",
          "text": [
            "LogisticRegression :\n",
            "La precision du modele est :0.8536585365853658\n",
            "------------------------------\n",
            " KNeighborsClassifier :\n",
            "La precision du modele est :0.6585365853658537\n",
            "------------------------------\n",
            "DecisionTreeClassifier :\n",
            "La precision du modele est :0.8455284552845529\n",
            "------------------------------\n"
          ],
          "name": "stdout"
        }
      ]
    },
    {
      "cell_type": "markdown",
      "metadata": {
        "id": "gcaOryvLKUA9"
      },
      "source": [
        "On remarque qu'il n'y a pas une grande différence par rapport aux valeurs qu'on a eues dans le premier modèle. On va donc essayer de créer une autre base de données qui ne contient que les variables hautement significatives"
      ]
    },
    {
      "cell_type": "code",
      "metadata": {
        "id": "V1nDCv0qKxLi"
      },
      "source": [
        "#Creation de la 3emem BDD\r\n",
        "X_3=X[['Credit_History','Married','CoapplicantIncome']]"
      ],
      "execution_count": 53,
      "outputs": []
    },
    {
      "cell_type": "code",
      "metadata": {
        "colab": {
          "base_uri": "https://localhost:8080/"
        },
        "id": "_i6Y4_eEK80w",
        "outputId": "c933ccf5-ebd2-4645-cd52-13e8795156a0"
      },
      "source": [
        "#Division de la BDD\r\n",
        "sss=StratifiedShuffleSplit(n_splits=1,test_size=0.2,random_state=42)#Initialisation\r\n",
        "#cette boucle va faire la devision\r\n",
        "for train,test in sss.split(X_3,Y):\r\n",
        "  X_train,X_test=X_3.iloc[train],X_3.iloc[test]\r\n",
        "  y_train,y_test=Y.iloc[train],Y.iloc[test]\r\n",
        "print('X_train taille:',X_train.shape)\r\n",
        "print('X_test taille:',X_test.shape)\r\n",
        "print('y_train taille:',y_train.shape)\r\n",
        "print('y_test taille:',y_test.shape)"
      ],
      "execution_count": 54,
      "outputs": [
        {
          "output_type": "stream",
          "text": [
            "X_train taille: (491, 3)\n",
            "X_test taille: (123, 3)\n",
            "y_train taille: (491,)\n",
            "y_test taille: (123,)\n"
          ],
          "name": "stdout"
        }
      ]
    },
    {
      "cell_type": "code",
      "metadata": {
        "colab": {
          "base_uri": "https://localhost:8080/"
        },
        "id": "N6KnDtIALMfz",
        "outputId": "9029c3f3-12ea-47e0-d7fd-c449414dc1c5"
      },
      "source": [
        "#Application du modele\r\n",
        "train_test_eval(models,X_train,y_train,X_test,y_test)"
      ],
      "execution_count": 55,
      "outputs": [
        {
          "output_type": "stream",
          "text": [
            "LogisticRegression :\n",
            "La precision du modele est :0.8536585365853658\n",
            "------------------------------\n",
            " KNeighborsClassifier :\n",
            "La precision du modele est :0.6991869918699187\n",
            "------------------------------\n",
            "DecisionTreeClassifier :\n",
            "La precision du modele est :0.8455284552845529\n",
            "------------------------------\n"
          ],
          "name": "stdout"
        }
      ]
    },
    {
      "cell_type": "markdown",
      "metadata": {
        "id": "an4S1APTLP94"
      },
      "source": [
        "On a obtenu la même accuracy au niveau de la Logistic Regression, et donc on va garder ce modèle."
      ]
    }
  ]
}